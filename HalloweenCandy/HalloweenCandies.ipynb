{
 "cells": [
  {
   "cell_type": "markdown",
   "id": "5c751926",
   "metadata": {},
   "source": [
    "### Importing Libraries"
   ]
  },
  {
   "cell_type": "code",
   "execution_count": 1,
   "id": "7fc107b7",
   "metadata": {},
   "outputs": [],
   "source": [
    "import pandas as pd\n",
    "import numpy as np\n",
    "import seaborn as sns\n",
    "import matplotlib.pyplot as plt\n",
    "%matplotlib inline"
   ]
  },
  {
   "cell_type": "code",
   "execution_count": 2,
   "id": "7971bf7c",
   "metadata": {},
   "outputs": [
    {
     "data": {
      "text/html": [
       "<div>\n",
       "<style scoped>\n",
       "    .dataframe tbody tr th:only-of-type {\n",
       "        vertical-align: middle;\n",
       "    }\n",
       "\n",
       "    .dataframe tbody tr th {\n",
       "        vertical-align: top;\n",
       "    }\n",
       "\n",
       "    .dataframe thead th {\n",
       "        text-align: right;\n",
       "    }\n",
       "</style>\n",
       "<table border=\"1\" class=\"dataframe\">\n",
       "  <thead>\n",
       "    <tr style=\"text-align: right;\">\n",
       "      <th></th>\n",
       "      <th>competitorname</th>\n",
       "      <th>chocolate</th>\n",
       "      <th>fruity</th>\n",
       "      <th>caramel</th>\n",
       "      <th>peanutyalmondy</th>\n",
       "      <th>nougat</th>\n",
       "      <th>crispedricewafer</th>\n",
       "      <th>hard</th>\n",
       "      <th>bar</th>\n",
       "      <th>pluribus</th>\n",
       "      <th>sugarpercent</th>\n",
       "      <th>pricepercent</th>\n",
       "      <th>winpercent</th>\n",
       "    </tr>\n",
       "  </thead>\n",
       "  <tbody>\n",
       "    <tr>\n",
       "      <th>0</th>\n",
       "      <td>100 Grand</td>\n",
       "      <td>1</td>\n",
       "      <td>0</td>\n",
       "      <td>1</td>\n",
       "      <td>0</td>\n",
       "      <td>0</td>\n",
       "      <td>1</td>\n",
       "      <td>0</td>\n",
       "      <td>1</td>\n",
       "      <td>0</td>\n",
       "      <td>0.732</td>\n",
       "      <td>0.860</td>\n",
       "      <td>66.971725</td>\n",
       "    </tr>\n",
       "    <tr>\n",
       "      <th>1</th>\n",
       "      <td>3 Musketeers</td>\n",
       "      <td>1</td>\n",
       "      <td>0</td>\n",
       "      <td>0</td>\n",
       "      <td>0</td>\n",
       "      <td>1</td>\n",
       "      <td>0</td>\n",
       "      <td>0</td>\n",
       "      <td>1</td>\n",
       "      <td>0</td>\n",
       "      <td>0.604</td>\n",
       "      <td>0.511</td>\n",
       "      <td>67.602936</td>\n",
       "    </tr>\n",
       "    <tr>\n",
       "      <th>2</th>\n",
       "      <td>One dime</td>\n",
       "      <td>0</td>\n",
       "      <td>0</td>\n",
       "      <td>0</td>\n",
       "      <td>0</td>\n",
       "      <td>0</td>\n",
       "      <td>0</td>\n",
       "      <td>0</td>\n",
       "      <td>0</td>\n",
       "      <td>0</td>\n",
       "      <td>0.011</td>\n",
       "      <td>0.116</td>\n",
       "      <td>32.261086</td>\n",
       "    </tr>\n",
       "    <tr>\n",
       "      <th>3</th>\n",
       "      <td>One quarter</td>\n",
       "      <td>0</td>\n",
       "      <td>0</td>\n",
       "      <td>0</td>\n",
       "      <td>0</td>\n",
       "      <td>0</td>\n",
       "      <td>0</td>\n",
       "      <td>0</td>\n",
       "      <td>0</td>\n",
       "      <td>0</td>\n",
       "      <td>0.011</td>\n",
       "      <td>0.511</td>\n",
       "      <td>46.116505</td>\n",
       "    </tr>\n",
       "    <tr>\n",
       "      <th>4</th>\n",
       "      <td>Air Heads</td>\n",
       "      <td>0</td>\n",
       "      <td>1</td>\n",
       "      <td>0</td>\n",
       "      <td>0</td>\n",
       "      <td>0</td>\n",
       "      <td>0</td>\n",
       "      <td>0</td>\n",
       "      <td>0</td>\n",
       "      <td>0</td>\n",
       "      <td>0.906</td>\n",
       "      <td>0.511</td>\n",
       "      <td>52.341465</td>\n",
       "    </tr>\n",
       "  </tbody>\n",
       "</table>\n",
       "</div>"
      ],
      "text/plain": [
       "  competitorname  chocolate  fruity  caramel  peanutyalmondy  nougat  \\\n",
       "0      100 Grand          1       0        1               0       0   \n",
       "1   3 Musketeers          1       0        0               0       1   \n",
       "2       One dime          0       0        0               0       0   \n",
       "3    One quarter          0       0        0               0       0   \n",
       "4      Air Heads          0       1        0               0       0   \n",
       "\n",
       "   crispedricewafer  hard  bar  pluribus  sugarpercent  pricepercent  \\\n",
       "0                 1     0    1         0         0.732         0.860   \n",
       "1                 0     0    1         0         0.604         0.511   \n",
       "2                 0     0    0         0         0.011         0.116   \n",
       "3                 0     0    0         0         0.011         0.511   \n",
       "4                 0     0    0         0         0.906         0.511   \n",
       "\n",
       "   winpercent  \n",
       "0   66.971725  \n",
       "1   67.602936  \n",
       "2   32.261086  \n",
       "3   46.116505  \n",
       "4   52.341465  "
      ]
     },
     "execution_count": 2,
     "metadata": {},
     "output_type": "execute_result"
    }
   ],
   "source": [
    "candy = pd.read_csv('candy.csv')\n",
    "candy.head()"
   ]
  },
  {
   "cell_type": "code",
   "execution_count": 3,
   "id": "d053de1d",
   "metadata": {},
   "outputs": [
    {
     "data": {
      "text/plain": [
       "(85, 13)"
      ]
     },
     "execution_count": 3,
     "metadata": {},
     "output_type": "execute_result"
    }
   ],
   "source": [
    "#checking the total number of rows and columns in data\n",
    "candy.shape"
   ]
  },
  {
   "cell_type": "code",
   "execution_count": 4,
   "id": "933a4975",
   "metadata": {},
   "outputs": [
    {
     "data": {
      "text/plain": [
       "competitorname      85\n",
       "chocolate           85\n",
       "fruity              85\n",
       "caramel             85\n",
       "peanutyalmondy      85\n",
       "nougat              85\n",
       "crispedricewafer    85\n",
       "hard                85\n",
       "bar                 85\n",
       "pluribus            85\n",
       "sugarpercent        85\n",
       "pricepercent        85\n",
       "winpercent          85\n",
       "dtype: int64"
      ]
     },
     "execution_count": 4,
     "metadata": {},
     "output_type": "execute_result"
    }
   ],
   "source": [
    "#a simple way to check for missing values\n",
    "#if the count for each column is same as number of rows i.e., 85, we do not have missing values\n",
    "candy.count()"
   ]
  },
  {
   "cell_type": "markdown",
   "id": "52dabaea",
   "metadata": {},
   "source": [
    "### Plots\n",
    "\n",
    "- Visualizing some aspects of data to further understand it.\n",
    "- First we start with scatter plots for price percentile and sugar percentile as these are the only two non-binary numerical columns. We plot it against Win percentage to see if there is any relationship between them."
   ]
  },
  {
   "cell_type": "code",
   "execution_count": 5,
   "id": "b7030a19",
   "metadata": {},
   "outputs": [
    {
     "data": {
      "image/png": "[encoded data removed]",
      "text/plain": [
       "<Figure size 432x288 with 1 Axes>"
      ]
     },
     "metadata": {
      "needs_background": "light"
     },
     "output_type": "display_data"
    }
   ],
   "source": [
    "plt.scatter(candy['pricepercent'].to_numpy(), candy['winpercent'].to_numpy())\n",
    "plt.show()"
   ]
  },
  {
   "cell_type": "code",
   "execution_count": 6,
   "id": "ec74872d",
   "metadata": {},
   "outputs": [
    {
     "data": {
      "image/png": "[encoded data removed]",
      "text/plain": [
       "<Figure size 432x288 with 1 Axes>"
      ]
     },
     "metadata": {
      "needs_background": "light"
     },
     "output_type": "display_data"
    }
   ],
   "source": [
    "plt.scatter(candy['sugarpercent'].to_numpy(), candy['winpercent'].to_numpy())\n",
    "plt.show()"
   ]
  },
  {
   "cell_type": "markdown",
   "id": "5b9c0fe2",
   "metadata": {},
   "source": [
    "- From the above scatter plots we can note that, both sugar content and price of the product do not affect win percentage in particular as the plot fails to show any relationship (linear, polynomial, etc) between them.\n",
    "- Based on this, let's focus on columns with binary data"
   ]
  },
  {
   "cell_type": "code",
   "execution_count": 7,
   "id": "2a8ca5a5",
   "metadata": {},
   "outputs": [
    {
     "data": {
      "image/png": "[encoded data removed]",
      "text/plain": [
       "<Figure size 1008x432 with 9 Axes>"
      ]
     },
     "metadata": {
      "needs_background": "light"
     },
     "output_type": "display_data"
    }
   ],
   "source": [
    "fig, ax = plt.subplots(3, 3, figsize=(14, 6),subplot_kw=dict(xticks=[]))\n",
    "fig.subplots_adjust(wspace=0.2, hspace=0.5)\n",
    "\n",
    "ax[0,0].scatter(candy['chocolate'].to_numpy(), candy['winpercent'].to_numpy())\n",
    "ax[0,0].set(xlabel=\"Chocolate\", ylabel=\"Win Percentage\")\n",
    "\n",
    "ax[0,1].scatter(candy['fruity'].to_numpy(), candy['winpercent'].to_numpy())\n",
    "ax[0,1].set(xlabel=\"Fruity\", ylabel=\"Win Percentage\")\n",
    "\n",
    "ax[0,2].scatter(candy['caramel'].to_numpy(), candy['winpercent'].to_numpy())\n",
    "ax[0,2].set(xlabel=\"Caramel\", ylabel=\"Win Percentage\")\n",
    "\n",
    "ax[1,0].scatter(candy['peanutyalmondy'].to_numpy(), candy['winpercent'].to_numpy())\n",
    "ax[1,0].set(xlabel=\"Peanuty & Almonds\", ylabel=\"Win Percentage\")\n",
    "\n",
    "ax[1,1].scatter(candy['nougat'].to_numpy(), candy['winpercent'].to_numpy())\n",
    "ax[1,1].set(xlabel=\"Nougat\", ylabel=\"Win Percentage\")\n",
    "\n",
    "ax[1,2].scatter(candy['crispedricewafer'].to_numpy(), candy['winpercent'].to_numpy())\n",
    "ax[1,2].set(xlabel=\"Crisped, Rice, Wafer\", ylabel=\"Win Percentage\")\n",
    "\n",
    "ax[2,0].scatter(candy['hard'].to_numpy(), candy['winpercent'].to_numpy())\n",
    "ax[2,0].set(xlabel=\"Hard\", ylabel=\"Win Percentage\")\n",
    "\n",
    "ax[2,1].scatter(candy['bar'].to_numpy(), candy['winpercent'].to_numpy())\n",
    "ax[2,1].set(xlabel=\"Bar\", ylabel=\"Win Percentage\")\n",
    "\n",
    "ax[2,2].scatter(candy['pluribus'].to_numpy(), candy['winpercent'].to_numpy())\n",
    "ax[2,2].set(xlabel=\"Pluribus\", ylabel=\"Win Percentage\");"
   ]
  },
  {
   "cell_type": "markdown",
   "id": "497a3c81",
   "metadata": {},
   "source": [
    "- From the above we can see that win percentage is divided between both binary choices, so we will proceed further with these columns.\n",
    "- Next, we visualize a count plot for the nine columns, to look at the count of distinct choices people made."
   ]
  },
  {
   "cell_type": "code",
   "execution_count": 8,
   "id": "e96373aa",
   "metadata": {},
   "outputs": [
    {
     "data": {
      "image/png": "[encoded data removed]",
      "text/plain": [
       "<Figure size 432x288 with 9 Axes>"
      ]
     },
     "metadata": {
      "needs_background": "light"
     },
     "output_type": "display_data"
    }
   ],
   "source": [
    "fig = plt.figure()\n",
    "fig.subplots_adjust(hspace=0.8, wspace=0.4)\n",
    "ax = fig.add_subplot(3, 3, 1)\n",
    "sns.countplot(x=\"chocolate\", data=candy, ax=ax)\n",
    "ax = fig.add_subplot(3, 3, 2)\n",
    "sns.countplot(x=\"fruity\", data=candy, ax=ax)\n",
    "ax = fig.add_subplot(3, 3, 3)\n",
    "sns.countplot(x=\"caramel\", data=candy, ax=ax)\n",
    "ax = fig.add_subplot(3, 3, 4)\n",
    "sns.countplot(x=\"peanutyalmondy\", data=candy, ax=ax)\n",
    "ax = fig.add_subplot(3, 3, 5)\n",
    "sns.countplot(x=\"nougat\", data=candy, ax=ax)\n",
    "ax = fig.add_subplot(3, 3, 6)\n",
    "sns.countplot(x=\"crispedricewafer\", data=candy, ax=ax)\n",
    "ax = fig.add_subplot(3, 3, 7)\n",
    "sns.countplot(x=\"hard\", data=candy, ax=ax)\n",
    "ax = fig.add_subplot(3, 3, 8)\n",
    "sns.countplot(x=\"bar\", data=candy, ax=ax)\n",
    "ax = fig.add_subplot(3, 3, 9)\n",
    "sns.countplot(x=\"pluribus\", data=candy, ax=ax)\n",
    "plt.show()"
   ]
  },
  {
   "cell_type": "markdown",
   "id": "ec065d27",
   "metadata": {},
   "source": [
    "- Purely from above graph, we can say that, more votes were in favor of candies with caramel, peanuts or almonds, noughat, crisped rice and softer to chew candies.\n",
    "- However, it also shows that our dataset does favor certain choices more.\n",
    "- As can be seen below, for choices like nougat and crisped rice, we have less than 10 choices."
   ]
  },
  {
   "cell_type": "code",
   "execution_count": 9,
   "id": "3bf52004",
   "metadata": {},
   "outputs": [
    {
     "name": "stdout",
     "output_type": "stream",
     "text": [
      "Caramel: No: 71 Yes: 14\n",
      "\n",
      "Peanutyalmondy: No: 71 Yes: 14\n",
      "\n",
      "Nougat: No: 78 Yes: 7\n",
      "\n",
      "Crispedricewafer: No: 78 Yes: 7\n",
      "\n",
      "Hard: No: 70 Yes: 15\n"
     ]
    }
   ],
   "source": [
    "print(\"Caramel: No: {} Yes: {}\".format(candy['caramel'].value_counts()[0], candy['caramel'].value_counts()[1]))\n",
    "print(\"\\nPeanutyalmondy: No: {} Yes: {}\".format(candy['peanutyalmondy'].value_counts()[0], candy['peanutyalmondy'].value_counts()[1]))\n",
    "print(\"\\nNougat: No: {} Yes: {}\".format(candy['nougat'].value_counts()[0], candy['nougat'].value_counts()[1]))\n",
    "print(\"\\nCrispedricewafer: No: {} Yes: {}\".format(candy['crispedricewafer'].value_counts()[0], candy['crispedricewafer'].value_counts()[1]))\n",
    "print(\"\\nHard: No: {} Yes: {}\".format(candy['hard'].value_counts()[0], candy['hard'].value_counts()[1]))"
   ]
  },
  {
   "cell_type": "code",
   "execution_count": 10,
   "id": "01f65abc",
   "metadata": {},
   "outputs": [
    {
     "data": {
      "text/plain": [
       "['competitorname',\n",
       " 'chocolate',\n",
       " 'fruity',\n",
       " 'caramel',\n",
       " 'peanutyalmondy',\n",
       " 'nougat',\n",
       " 'crispedricewafer',\n",
       " 'hard',\n",
       " 'bar',\n",
       " 'pluribus',\n",
       " 'sugarpercent',\n",
       " 'pricepercent',\n",
       " 'winpercent']"
      ]
     },
     "execution_count": 10,
     "metadata": {},
     "output_type": "execute_result"
    }
   ],
   "source": [
    "columns = candy.columns.tolist()\n",
    "columns"
   ]
  },
  {
   "cell_type": "markdown",
   "id": "4770e591",
   "metadata": {},
   "source": [
    "### Hypothesis testing"
   ]
  },
  {
   "cell_type": "markdown",
   "id": "21a65b18",
   "metadata": {},
   "source": [
    "R provides good packages for hypothesis testing and we will be using R code to do the same.\n",
    "\n",
    "(Please refer the r-code file for code.)"
   ]
  },
  {
   "cell_type": "markdown",
   "id": "ae6b0bba",
   "metadata": {},
   "source": [
    "Hypothesis test results are tabulated below:\n",
    "\n",
    "| Column | p-value |\n",
    "| --------- | --------- |\n",
    "| chocolate | 4.164e-10 |\n",
    "| fruity | 0.0001847 |\n",
    "| caramel | 0.08728 |\n",
    "| peanutyalmondy | 0.003198 |\n",
    "| nougat | 0.09271 |\n",
    "| crispedricewafer | 0.004119 |\n",
    "| hard | 3.125e-05 |\n",
    "| bar | 1.6e-05 |\n",
    "| pluribus | 0.02324 |\n",
    "\n",
    "- Based on p-values, columns with values <0.05 can be considered significantly contributing to win-percent.\n",
    "- These columns include chocolate, fruity, peanutyalmondy, crispedricewafer, hard, bar and pluribus.\n",
    "- However, we need to note that, for some of the columns we do not have enough data (the ones mentioned two cells above) distributed between the two choices to completely follow the table, so we would be considering all the 9 columns going forward."
   ]
  },
  {
   "cell_type": "markdown",
   "id": "d6bba63e",
   "metadata": {},
   "source": [
    "### Defining X and Y for further understanding relationship between other columns and Win percentage"
   ]
  },
  {
   "cell_type": "code",
   "execution_count": 11,
   "id": "b0619784",
   "metadata": {},
   "outputs": [],
   "source": [
    "X = candy.drop(axis=1, columns=['competitorname', 'sugarpercent', 'pricepercent', 'winpercent']) #'sugarpercent', 'pricepercent'\n",
    "y = candy['winpercent']"
   ]
  },
  {
   "cell_type": "markdown",
   "id": "a5e16e3f",
   "metadata": {},
   "source": [
    "### 1. Regression\n",
    "\n",
    "- Using linear regression to get co-efficients for different columns.\n",
    "- We also get a r-square value on its self prediction with linear regression."
   ]
  },
  {
   "cell_type": "code",
   "execution_count": 12,
   "id": "03aa3bd6",
   "metadata": {},
   "outputs": [],
   "source": [
    "from sklearn.linear_model import LinearRegression"
   ]
  },
  {
   "cell_type": "code",
   "execution_count": 13,
   "id": "2b416ddf",
   "metadata": {},
   "outputs": [],
   "source": [
    "reg = LinearRegression().fit(X, y)"
   ]
  },
  {
   "cell_type": "code",
   "execution_count": 14,
   "id": "b80ac725",
   "metadata": {},
   "outputs": [
    {
     "name": "stdout",
     "output_type": "stream",
     "text": [
      "[19.90579455 10.26773158  3.38428178 10.14101727  2.41625176  8.99154904\n",
      " -4.8725601  -0.72196626 -0.15991743]\n",
      "35.01545874153001\n"
     ]
    }
   ],
   "source": [
    "print(reg.coef_)\n",
    "print(reg.intercept_)"
   ]
  },
  {
   "cell_type": "code",
   "execution_count": 15,
   "id": "317ea24c",
   "metadata": {},
   "outputs": [
    {
     "data": {
      "text/plain": [
       "0.514809706138915"
      ]
     },
     "execution_count": 15,
     "metadata": {},
     "output_type": "execute_result"
    }
   ],
   "source": [
    "reg.score(X,y)"
   ]
  },
  {
   "cell_type": "markdown",
   "id": "463c0403",
   "metadata": {},
   "source": [
    "- The r-square value (~51%) is very low. That is these variables might not have a completely linear relationship with target variable.\n",
    "- A candy that satisfies none of these conditions, still gets a baseline win percentage of 35% (intercept).\n",
    "- 50% (r-square) of rest of the win percentage can be explained with other 9 variables.\n",
    "- We can see that co-efficients for certain choices are higher. For example, adding chocolates, fruits, peanut and almonds and crisp rice wafers add roughly 20%, 10%, 10% and 10% to the overall win percentage. Whereas, hard, bar and pluribus would be better off with binary choice of zero i.e., candy being soft, not as a bar and not in a package with multiple other candies."
   ]
  },
  {
   "cell_type": "markdown",
   "id": "71dbed49",
   "metadata": {},
   "source": [
    "### 2. Clustering\n",
    "\n",
    "#### 2.1 Determing number of clusters to use\n",
    "\n",
    "- Another way of getting insights from data is to use the unsupervised technique of clustering.\n",
    "- Here, we first plot curves based on Elbow method to determine number of clusters.\n",
    "- Elbow curves are plotted with two methods:\n",
    "    - distortion\n",
    "    - intertia\n",
    "- Based on these, we K-Means is used for clustering   \n"
   ]
  },
  {
   "cell_type": "code",
   "execution_count": 16,
   "id": "c74ef338",
   "metadata": {},
   "outputs": [],
   "source": [
    "from sklearn.cluster import KMeans\n",
    "from scipy.spatial.distance import cdist"
   ]
  },
  {
   "cell_type": "code",
   "execution_count": 17,
   "id": "511f3aba",
   "metadata": {},
   "outputs": [],
   "source": [
    "distortions = []\n",
    "inertias = []\n",
    "mapping1 = {}\n",
    "mapping2 = {}\n",
    "K = range(2, 11)\n",
    "  \n",
    "for k in K:\n",
    "    # Building and fitting the model\n",
    "    kmeanModel = KMeans(n_clusters=k).fit(X)\n",
    "    kmeanModel.fit(X)\n",
    "  \n",
    "    distortions.append(sum(np.min(cdist(X, kmeanModel.cluster_centers_,\n",
    "                                        'euclidean'), axis=1)) / X.shape[0])\n",
    "    inertias.append(kmeanModel.inertia_)\n",
    "  \n",
    "    mapping1[k] = sum(np.min(cdist(X, kmeanModel.cluster_centers_,\n",
    "                                   'euclidean'), axis=1)) / X.shape[0]\n",
    "    mapping2[k] = kmeanModel.inertia_"
   ]
  },
  {
   "cell_type": "code",
   "execution_count": 18,
   "id": "44556df0",
   "metadata": {},
   "outputs": [
    {
     "data": {
      "image/png": "[encoded data removed]",
      "text/plain": [
       "<Figure size 432x288 with 1 Axes>"
      ]
     },
     "metadata": {
      "needs_background": "light"
     },
     "output_type": "display_data"
    }
   ],
   "source": [
    "plt.plot(K, distortions, 'bx-')\n",
    "plt.xlabel('Values of K')\n",
    "plt.ylabel('Distortion')\n",
    "plt.title('The Elbow Method using Distortion')\n",
    "plt.show()"
   ]
  },
  {
   "cell_type": "code",
   "execution_count": 19,
   "id": "1bd8da89",
   "metadata": {},
   "outputs": [
    {
     "data": {
      "image/png": "[encoded data removed]",
      "text/plain": [
       "<Figure size 432x288 with 1 Axes>"
      ]
     },
     "metadata": {
      "needs_background": "light"
     },
     "output_type": "display_data"
    }
   ],
   "source": [
    "plt.plot(K, inertias, 'bx-')\n",
    "plt.xlabel('Values of K')\n",
    "plt.ylabel('Inertia')\n",
    "plt.title('The Elbow Method using Inertia')\n",
    "plt.show()"
   ]
  },
  {
   "cell_type": "markdown",
   "id": "8591c0ed",
   "metadata": {},
   "source": [
    "#### 2.2 Clustering using K-Means\n",
    "\n",
    "Based on both above plots, we proceed with K=2 i.e., two clusters"
   ]
  },
  {
   "cell_type": "code",
   "execution_count": 20,
   "id": "80dcd008",
   "metadata": {},
   "outputs": [
    {
     "data": {
      "text/plain": [
       "array([[ 9.47368421e-01,  5.55111512e-17,  2.89473684e-01,\n",
       "         3.42105263e-01,  1.84210526e-01,  1.84210526e-01,\n",
       "        -2.77555756e-17,  5.52631579e-01,  3.15789474e-01],\n",
       "       [ 2.12765957e-02,  8.08510638e-01,  6.38297872e-02,\n",
       "         2.12765957e-02, -5.55111512e-17, -5.55111512e-17,\n",
       "         3.19148936e-01,  2.77555756e-16,  6.80851064e-01]])"
      ]
     },
     "execution_count": 20,
     "metadata": {},
     "output_type": "execute_result"
    }
   ],
   "source": [
    "kmeans = KMeans(n_clusters=2, random_state=0).fit(X)\n",
    "kmeans.cluster_centers_"
   ]
  },
  {
   "cell_type": "markdown",
   "id": "0e4a1150",
   "metadata": {},
   "source": [
    "- The first cluster seems to emphasize more on chocolate, caramel, peanuts and almonds, nougat, crisped rice wafer and bar.\n",
    "- The second cluster seems to emphasize more on fruity, hard and pluribus."
   ]
  },
  {
   "cell_type": "markdown",
   "id": "a7c9a509",
   "metadata": {},
   "source": [
    "### 3. RandomForest\n",
    "\n",
    "We can try to leverage RandomForest's feature importance to see if it has similar results as before."
   ]
  },
  {
   "cell_type": "code",
   "execution_count": 21,
   "id": "bdb1c19f",
   "metadata": {},
   "outputs": [],
   "source": [
    "from sklearn.ensemble import RandomForestRegressor"
   ]
  },
  {
   "cell_type": "code",
   "execution_count": 22,
   "id": "2af1e598",
   "metadata": {},
   "outputs": [
    {
     "data": {
      "text/plain": [
       "array([0.54522679, 0.04760873, 0.07058364, 0.11125912, 0.02053039,\n",
       "       0.05000061, 0.02391246, 0.08417748, 0.04670076])"
      ]
     },
     "execution_count": 22,
     "metadata": {},
     "output_type": "execute_result"
    }
   ],
   "source": [
    "randomforest = RandomForestRegressor(random_state=0)\n",
    "\n",
    "model_random = randomforest.fit(X, y)\n",
    "list_features = model_random.feature_importances_\n",
    "\n",
    "list_features"
   ]
  },
  {
   "cell_type": "markdown",
   "id": "0443010e",
   "metadata": {},
   "source": [
    "Here too, we can note that high importance is being given to presence of chocolate, followed by peanut and almonds"
   ]
  },
  {
   "cell_type": "markdown",
   "id": "fd6c9f3b",
   "metadata": {},
   "source": [
    "### Concluding Statements\n",
    "\n",
    "- Your choice of candies could differ based on your personal taste.\n",
    "- But the overall result of polls, though might not help us buy a single mass favorite brand of candy, it gives us an idea that people prefer candies with chocolate and the one's that include nuttiness or crispiness.\n",
    "- It would be nice to have candies which are easy to chew and packed separately.\n",
    "- Ocassionally, can include fruity flavors in the mix."
   ]
  },
  {
   "cell_type": "code",
   "execution_count": null,
   "id": "5aa4ff1f",
   "metadata": {},
   "outputs": [],
   "source": []
  }
 ],
 "metadata": {
  "kernelspec": {
   "display_name": "Python 3",
   "language": "python",
   "name": "python3"
  },
  "language_info": {
   "codemirror_mode": {
    "name": "ipython",
    "version": 3
   },
   "file_extension": ".py",
   "mimetype": "text/x-python",
   "name": "python",
   "nbconvert_exporter": "python",
   "pygments_lexer": "ipython3",
   "version": "3.8.8"
  }
 },
 "nbformat": 4,
 "nbformat_minor": 5
}
