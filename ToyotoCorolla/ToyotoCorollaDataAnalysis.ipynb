{
 "cells": [
  {
   "cell_type": "code",
   "execution_count": 1,
   "id": "45697542",
   "metadata": {},
   "outputs": [],
   "source": [
    "#importing libraries\n",
    "import pandas as pd"
   ]
  },
  {
   "cell_type": "code",
   "execution_count": 2,
   "id": "7084c703",
   "metadata": {},
   "outputs": [],
   "source": [
    "%matplotlib inline\n",
    "import matplotlib as mpl\n",
    "import matplotlib.pyplot as plt\n",
    "import numpy as np"
   ]
  },
  {
   "cell_type": "code",
   "execution_count": 3,
   "id": "4eedb983",
   "metadata": {},
   "outputs": [],
   "source": [
    "df = pd.read_csv(\"ToyotaCorolla.csv\")"
   ]
  },
  {
   "cell_type": "code",
   "execution_count": 4,
   "id": "b8ac4f4e",
   "metadata": {},
   "outputs": [],
   "source": [
    "df1=df"
   ]
  },
  {
   "cell_type": "code",
   "execution_count": 5,
   "id": "c9390395",
   "metadata": {},
   "outputs": [
    {
     "data": {
      "text/html": [
       "<div>\n",
       "<style scoped>\n",
       "    .dataframe tbody tr th:only-of-type {\n",
       "        vertical-align: middle;\n",
       "    }\n",
       "\n",
       "    .dataframe tbody tr th {\n",
       "        vertical-align: top;\n",
       "    }\n",
       "\n",
       "    .dataframe thead th {\n",
       "        text-align: right;\n",
       "    }\n",
       "</style>\n",
       "<table border=\"1\" class=\"dataframe\">\n",
       "  <thead>\n",
       "    <tr style=\"text-align: right;\">\n",
       "      <th></th>\n",
       "      <th>Price</th>\n",
       "      <th>Age</th>\n",
       "      <th>KM</th>\n",
       "      <th>FuelType</th>\n",
       "      <th>HP</th>\n",
       "      <th>MetColor</th>\n",
       "      <th>Automatic</th>\n",
       "      <th>CC</th>\n",
       "      <th>Doors</th>\n",
       "      <th>Weight</th>\n",
       "    </tr>\n",
       "  </thead>\n",
       "  <tbody>\n",
       "    <tr>\n",
       "      <th>0</th>\n",
       "      <td>13500</td>\n",
       "      <td>23</td>\n",
       "      <td>46986</td>\n",
       "      <td>Diesel</td>\n",
       "      <td>90</td>\n",
       "      <td>1</td>\n",
       "      <td>0</td>\n",
       "      <td>2000</td>\n",
       "      <td>3</td>\n",
       "      <td>1165</td>\n",
       "    </tr>\n",
       "    <tr>\n",
       "      <th>1</th>\n",
       "      <td>13750</td>\n",
       "      <td>23</td>\n",
       "      <td>72937</td>\n",
       "      <td>Diesel</td>\n",
       "      <td>90</td>\n",
       "      <td>1</td>\n",
       "      <td>0</td>\n",
       "      <td>2000</td>\n",
       "      <td>3</td>\n",
       "      <td>1165</td>\n",
       "    </tr>\n",
       "    <tr>\n",
       "      <th>2</th>\n",
       "      <td>13950</td>\n",
       "      <td>24</td>\n",
       "      <td>41711</td>\n",
       "      <td>Diesel</td>\n",
       "      <td>90</td>\n",
       "      <td>1</td>\n",
       "      <td>0</td>\n",
       "      <td>2000</td>\n",
       "      <td>3</td>\n",
       "      <td>1165</td>\n",
       "    </tr>\n",
       "    <tr>\n",
       "      <th>3</th>\n",
       "      <td>14950</td>\n",
       "      <td>26</td>\n",
       "      <td>48000</td>\n",
       "      <td>Diesel</td>\n",
       "      <td>90</td>\n",
       "      <td>0</td>\n",
       "      <td>0</td>\n",
       "      <td>2000</td>\n",
       "      <td>3</td>\n",
       "      <td>1165</td>\n",
       "    </tr>\n",
       "    <tr>\n",
       "      <th>4</th>\n",
       "      <td>13750</td>\n",
       "      <td>30</td>\n",
       "      <td>38500</td>\n",
       "      <td>Diesel</td>\n",
       "      <td>90</td>\n",
       "      <td>0</td>\n",
       "      <td>0</td>\n",
       "      <td>2000</td>\n",
       "      <td>3</td>\n",
       "      <td>1170</td>\n",
       "    </tr>\n",
       "  </tbody>\n",
       "</table>\n",
       "</div>"
      ],
      "text/plain": [
       "   Price  Age     KM FuelType  HP  MetColor  Automatic    CC  Doors  Weight\n",
       "0  13500   23  46986   Diesel  90         1          0  2000      3    1165\n",
       "1  13750   23  72937   Diesel  90         1          0  2000      3    1165\n",
       "2  13950   24  41711   Diesel  90         1          0  2000      3    1165\n",
       "3  14950   26  48000   Diesel  90         0          0  2000      3    1165\n",
       "4  13750   30  38500   Diesel  90         0          0  2000      3    1170"
      ]
     },
     "execution_count": 5,
     "metadata": {},
     "output_type": "execute_result"
    }
   ],
   "source": [
    "df.head()"
   ]
  },
  {
   "cell_type": "code",
   "execution_count": 6,
   "id": "c5cd356d",
   "metadata": {},
   "outputs": [
    {
     "name": "stdout",
     "output_type": "stream",
     "text": [
      "<class 'pandas.core.frame.DataFrame'>\n",
      "RangeIndex: 1436 entries, 0 to 1435\n",
      "Data columns (total 10 columns):\n",
      " #   Column     Non-Null Count  Dtype \n",
      "---  ------     --------------  ----- \n",
      " 0   Price      1436 non-null   int64 \n",
      " 1   Age        1436 non-null   int64 \n",
      " 2   KM         1436 non-null   int64 \n",
      " 3   FuelType   1436 non-null   object\n",
      " 4   HP         1436 non-null   int64 \n",
      " 5   MetColor   1436 non-null   int64 \n",
      " 6   Automatic  1436 non-null   int64 \n",
      " 7   CC         1436 non-null   int64 \n",
      " 8   Doors      1436 non-null   int64 \n",
      " 9   Weight     1436 non-null   int64 \n",
      "dtypes: int64(9), object(1)\n",
      "memory usage: 112.3+ KB\n"
     ]
    }
   ],
   "source": [
    "df.info()"
   ]
  },
  {
   "cell_type": "code",
   "execution_count": 7,
   "id": "2f907270",
   "metadata": {},
   "outputs": [
    {
     "data": {
      "text/plain": [
       "Petrol    1264\n",
       "Diesel     155\n",
       "CNG         17\n",
       "Name: FuelType, dtype: int64"
      ]
     },
     "execution_count": 7,
     "metadata": {},
     "output_type": "execute_result"
    }
   ],
   "source": [
    "df['FuelType'].value_counts()"
   ]
  },
  {
   "cell_type": "code",
   "execution_count": 8,
   "id": "424ffb19",
   "metadata": {},
   "outputs": [
    {
     "data": {
      "text/html": [
       "<div>\n",
       "<style scoped>\n",
       "    .dataframe tbody tr th:only-of-type {\n",
       "        vertical-align: middle;\n",
       "    }\n",
       "\n",
       "    .dataframe tbody tr th {\n",
       "        vertical-align: top;\n",
       "    }\n",
       "\n",
       "    .dataframe thead th {\n",
       "        text-align: right;\n",
       "    }\n",
       "</style>\n",
       "<table border=\"1\" class=\"dataframe\">\n",
       "  <thead>\n",
       "    <tr style=\"text-align: right;\">\n",
       "      <th></th>\n",
       "      <th>Price</th>\n",
       "      <th>Age</th>\n",
       "      <th>KM</th>\n",
       "      <th>HP</th>\n",
       "      <th>MetColor</th>\n",
       "      <th>Automatic</th>\n",
       "      <th>CC</th>\n",
       "      <th>Doors</th>\n",
       "      <th>Weight</th>\n",
       "    </tr>\n",
       "  </thead>\n",
       "  <tbody>\n",
       "    <tr>\n",
       "      <th>count</th>\n",
       "      <td>1436.000000</td>\n",
       "      <td>1436.000000</td>\n",
       "      <td>1436.000000</td>\n",
       "      <td>1436.000000</td>\n",
       "      <td>1436.000000</td>\n",
       "      <td>1436.000000</td>\n",
       "      <td>1436.000000</td>\n",
       "      <td>1436.000000</td>\n",
       "      <td>1436.00000</td>\n",
       "    </tr>\n",
       "    <tr>\n",
       "      <th>mean</th>\n",
       "      <td>10730.824513</td>\n",
       "      <td>55.947075</td>\n",
       "      <td>68533.259749</td>\n",
       "      <td>101.502089</td>\n",
       "      <td>0.674791</td>\n",
       "      <td>0.055710</td>\n",
       "      <td>1566.827994</td>\n",
       "      <td>4.033426</td>\n",
       "      <td>1072.45961</td>\n",
       "    </tr>\n",
       "    <tr>\n",
       "      <th>std</th>\n",
       "      <td>3626.964585</td>\n",
       "      <td>18.599988</td>\n",
       "      <td>37506.448872</td>\n",
       "      <td>14.981080</td>\n",
       "      <td>0.468616</td>\n",
       "      <td>0.229441</td>\n",
       "      <td>187.182436</td>\n",
       "      <td>0.952677</td>\n",
       "      <td>52.64112</td>\n",
       "    </tr>\n",
       "    <tr>\n",
       "      <th>min</th>\n",
       "      <td>4350.000000</td>\n",
       "      <td>1.000000</td>\n",
       "      <td>1.000000</td>\n",
       "      <td>69.000000</td>\n",
       "      <td>0.000000</td>\n",
       "      <td>0.000000</td>\n",
       "      <td>1300.000000</td>\n",
       "      <td>2.000000</td>\n",
       "      <td>1000.00000</td>\n",
       "    </tr>\n",
       "    <tr>\n",
       "      <th>25%</th>\n",
       "      <td>8450.000000</td>\n",
       "      <td>44.000000</td>\n",
       "      <td>43000.000000</td>\n",
       "      <td>90.000000</td>\n",
       "      <td>0.000000</td>\n",
       "      <td>0.000000</td>\n",
       "      <td>1400.000000</td>\n",
       "      <td>3.000000</td>\n",
       "      <td>1040.00000</td>\n",
       "    </tr>\n",
       "    <tr>\n",
       "      <th>50%</th>\n",
       "      <td>9900.000000</td>\n",
       "      <td>61.000000</td>\n",
       "      <td>63389.500000</td>\n",
       "      <td>110.000000</td>\n",
       "      <td>1.000000</td>\n",
       "      <td>0.000000</td>\n",
       "      <td>1600.000000</td>\n",
       "      <td>4.000000</td>\n",
       "      <td>1070.00000</td>\n",
       "    </tr>\n",
       "    <tr>\n",
       "      <th>75%</th>\n",
       "      <td>11950.000000</td>\n",
       "      <td>70.000000</td>\n",
       "      <td>87020.750000</td>\n",
       "      <td>110.000000</td>\n",
       "      <td>1.000000</td>\n",
       "      <td>0.000000</td>\n",
       "      <td>1600.000000</td>\n",
       "      <td>5.000000</td>\n",
       "      <td>1085.00000</td>\n",
       "    </tr>\n",
       "    <tr>\n",
       "      <th>max</th>\n",
       "      <td>32500.000000</td>\n",
       "      <td>80.000000</td>\n",
       "      <td>243000.000000</td>\n",
       "      <td>192.000000</td>\n",
       "      <td>1.000000</td>\n",
       "      <td>1.000000</td>\n",
       "      <td>2000.000000</td>\n",
       "      <td>5.000000</td>\n",
       "      <td>1615.00000</td>\n",
       "    </tr>\n",
       "  </tbody>\n",
       "</table>\n",
       "</div>"
      ],
      "text/plain": [
       "              Price          Age             KM           HP     MetColor  \\\n",
       "count   1436.000000  1436.000000    1436.000000  1436.000000  1436.000000   \n",
       "mean   10730.824513    55.947075   68533.259749   101.502089     0.674791   \n",
       "std     3626.964585    18.599988   37506.448872    14.981080     0.468616   \n",
       "min     4350.000000     1.000000       1.000000    69.000000     0.000000   \n",
       "25%     8450.000000    44.000000   43000.000000    90.000000     0.000000   \n",
       "50%     9900.000000    61.000000   63389.500000   110.000000     1.000000   \n",
       "75%    11950.000000    70.000000   87020.750000   110.000000     1.000000   \n",
       "max    32500.000000    80.000000  243000.000000   192.000000     1.000000   \n",
       "\n",
       "         Automatic           CC        Doors      Weight  \n",
       "count  1436.000000  1436.000000  1436.000000  1436.00000  \n",
       "mean      0.055710  1566.827994     4.033426  1072.45961  \n",
       "std       0.229441   187.182436     0.952677    52.64112  \n",
       "min       0.000000  1300.000000     2.000000  1000.00000  \n",
       "25%       0.000000  1400.000000     3.000000  1040.00000  \n",
       "50%       0.000000  1600.000000     4.000000  1070.00000  \n",
       "75%       0.000000  1600.000000     5.000000  1085.00000  \n",
       "max       1.000000  2000.000000     5.000000  1615.00000  "
      ]
     },
     "execution_count": 8,
     "metadata": {},
     "output_type": "execute_result"
    }
   ],
   "source": [
    "df.describe()"
   ]
  },
  {
   "cell_type": "code",
   "execution_count": 9,
   "id": "bbe21336",
   "metadata": {},
   "outputs": [
    {
     "data": {
      "image/png": "[encoded data removed]",
      "text/plain": [
       "<Figure size 1440x1080 with 9 Axes>"
      ]
     },
     "metadata": {
      "needs_background": "light"
     },
     "output_type": "display_data"
    }
   ],
   "source": [
    "df.hist(figsize=(20,15))\n",
    "plt.show()"
   ]
  },
  {
   "cell_type": "markdown",
   "id": "7c729cd1",
   "metadata": {},
   "source": [
    "#### Method-1: Splitting dataset into training and test data"
   ]
  },
  {
   "cell_type": "code",
   "execution_count": 10,
   "id": "19b7a99e",
   "metadata": {},
   "outputs": [],
   "source": [
    "from sklearn.model_selection import train_test_split"
   ]
  },
  {
   "cell_type": "code",
   "execution_count": 11,
   "id": "2bc0a041",
   "metadata": {},
   "outputs": [],
   "source": [
    "train_set, test_set = train_test_split(df, test_size=0.3, random_state=5)"
   ]
  },
  {
   "cell_type": "code",
   "execution_count": 12,
   "id": "d01d82eb",
   "metadata": {},
   "outputs": [
    {
     "data": {
      "text/plain": [
       "1005"
      ]
     },
     "execution_count": 12,
     "metadata": {},
     "output_type": "execute_result"
    }
   ],
   "source": [
    "len(train_set)"
   ]
  },
  {
   "cell_type": "code",
   "execution_count": 13,
   "id": "cad07882",
   "metadata": {},
   "outputs": [
    {
     "data": {
      "text/plain": [
       "431"
      ]
     },
     "execution_count": 13,
     "metadata": {},
     "output_type": "execute_result"
    }
   ],
   "source": [
    "len(test_set)"
   ]
  },
  {
   "cell_type": "code",
   "execution_count": 14,
   "id": "da2de4dc",
   "metadata": {},
   "outputs": [
    {
     "data": {
      "text/html": [
       "<div>\n",
       "<style scoped>\n",
       "    .dataframe tbody tr th:only-of-type {\n",
       "        vertical-align: middle;\n",
       "    }\n",
       "\n",
       "    .dataframe tbody tr th {\n",
       "        vertical-align: top;\n",
       "    }\n",
       "\n",
       "    .dataframe thead th {\n",
       "        text-align: right;\n",
       "    }\n",
       "</style>\n",
       "<table border=\"1\" class=\"dataframe\">\n",
       "  <thead>\n",
       "    <tr style=\"text-align: right;\">\n",
       "      <th></th>\n",
       "      <th>Price</th>\n",
       "      <th>Age</th>\n",
       "      <th>KM</th>\n",
       "      <th>FuelType</th>\n",
       "      <th>HP</th>\n",
       "      <th>MetColor</th>\n",
       "      <th>Automatic</th>\n",
       "      <th>CC</th>\n",
       "      <th>Doors</th>\n",
       "      <th>Weight</th>\n",
       "    </tr>\n",
       "  </thead>\n",
       "  <tbody>\n",
       "    <tr>\n",
       "      <th>655</th>\n",
       "      <td>8250</td>\n",
       "      <td>59</td>\n",
       "      <td>113700</td>\n",
       "      <td>Petrol</td>\n",
       "      <td>110</td>\n",
       "      <td>1</td>\n",
       "      <td>0</td>\n",
       "      <td>1600</td>\n",
       "      <td>5</td>\n",
       "      <td>1065</td>\n",
       "    </tr>\n",
       "    <tr>\n",
       "      <th>786</th>\n",
       "      <td>9950</td>\n",
       "      <td>67</td>\n",
       "      <td>75429</td>\n",
       "      <td>Petrol</td>\n",
       "      <td>110</td>\n",
       "      <td>1</td>\n",
       "      <td>0</td>\n",
       "      <td>1600</td>\n",
       "      <td>3</td>\n",
       "      <td>1065</td>\n",
       "    </tr>\n",
       "    <tr>\n",
       "      <th>34</th>\n",
       "      <td>15500</td>\n",
       "      <td>22</td>\n",
       "      <td>41000</td>\n",
       "      <td>Petrol</td>\n",
       "      <td>97</td>\n",
       "      <td>1</td>\n",
       "      <td>0</td>\n",
       "      <td>1400</td>\n",
       "      <td>3</td>\n",
       "      <td>1100</td>\n",
       "    </tr>\n",
       "    <tr>\n",
       "      <th>1396</th>\n",
       "      <td>9800</td>\n",
       "      <td>77</td>\n",
       "      <td>48838</td>\n",
       "      <td>Petrol</td>\n",
       "      <td>110</td>\n",
       "      <td>0</td>\n",
       "      <td>0</td>\n",
       "      <td>1600</td>\n",
       "      <td>3</td>\n",
       "      <td>1055</td>\n",
       "    </tr>\n",
       "    <tr>\n",
       "      <th>517</th>\n",
       "      <td>10000</td>\n",
       "      <td>56</td>\n",
       "      <td>52000</td>\n",
       "      <td>Petrol</td>\n",
       "      <td>97</td>\n",
       "      <td>0</td>\n",
       "      <td>0</td>\n",
       "      <td>1400</td>\n",
       "      <td>3</td>\n",
       "      <td>1025</td>\n",
       "    </tr>\n",
       "  </tbody>\n",
       "</table>\n",
       "</div>"
      ],
      "text/plain": [
       "      Price  Age      KM FuelType   HP  MetColor  Automatic    CC  Doors  \\\n",
       "655    8250   59  113700   Petrol  110         1          0  1600      5   \n",
       "786    9950   67   75429   Petrol  110         1          0  1600      3   \n",
       "34    15500   22   41000   Petrol   97         1          0  1400      3   \n",
       "1396   9800   77   48838   Petrol  110         0          0  1600      3   \n",
       "517   10000   56   52000   Petrol   97         0          0  1400      3   \n",
       "\n",
       "      Weight  \n",
       "655     1065  \n",
       "786     1065  \n",
       "34      1100  \n",
       "1396    1055  \n",
       "517     1025  "
      ]
     },
     "execution_count": 14,
     "metadata": {},
     "output_type": "execute_result"
    }
   ],
   "source": [
    "test_set.head()"
   ]
  },
  {
   "cell_type": "markdown",
   "id": "e503cba3",
   "metadata": {},
   "source": [
    "#### Method-2: Splitting dataset into training and test data"
   ]
  },
  {
   "cell_type": "code",
   "execution_count": 15,
   "id": "6167ae2a",
   "metadata": {},
   "outputs": [],
   "source": [
    "def split_train_test(data, test_ratio):\n",
    "    shuffled_indices = np.random.permutation(len(data))\n",
    "    test_set_size = int(len(data) * test_ratio)\n",
    "    test_indices = shuffled_indices[:test_set_size]\n",
    "    train_indices = shuffled_indices[test_set_size:]\n",
    "    return data.iloc[train_indices], data.iloc[test_indices]"
   ]
  },
  {
   "cell_type": "code",
   "execution_count": 16,
   "id": "34afeb99",
   "metadata": {},
   "outputs": [],
   "source": [
    "train_set, test_set = split_train_test(df, 0.3)"
   ]
  },
  {
   "cell_type": "code",
   "execution_count": 17,
   "id": "6edae4fb",
   "metadata": {},
   "outputs": [
    {
     "name": "stdout",
     "output_type": "stream",
     "text": [
      "1006\n",
      "430\n"
     ]
    }
   ],
   "source": [
    "print(len(train_set))\n",
    "print(len(test_set))"
   ]
  },
  {
   "cell_type": "markdown",
   "id": "0d3952da",
   "metadata": {},
   "source": [
    "#### Categorizing Price using cut function on dataframe"
   ]
  },
  {
   "cell_type": "code",
   "execution_count": 18,
   "id": "d43418cc",
   "metadata": {},
   "outputs": [
    {
     "data": {
      "text/plain": [
       "8-12k     820\n",
       "4-8k      304\n",
       "12-16k    172\n",
       "16k+      140\n",
       "0-4k        0\n",
       "Name: Price_cat, dtype: int64"
      ]
     },
     "execution_count": 18,
     "metadata": {},
     "output_type": "execute_result"
    }
   ],
   "source": [
    "df[\"Price_cat\"] = pd.cut(df[\"Price\"], bins=[0, 4000, 8000, 12000, 16000, np.inf],\n",
    "                               labels=['0-4k', '4-8k', '8-12k', '12-16k', '16k+'])\n",
    "df[\"Price_cat\"].value_counts()"
   ]
  },
  {
   "cell_type": "code",
   "execution_count": 19,
   "id": "a3c7b533",
   "metadata": {},
   "outputs": [
    {
     "data": {
      "text/plain": [
       "<AxesSubplot:>"
      ]
     },
     "execution_count": 19,
     "metadata": {},
     "output_type": "execute_result"
    },
    {
     "data": {
      "image/png": "[encoded data removed]",
      "text/plain": [
       "<Figure size 432x288 with 1 Axes>"
      ]
     },
     "metadata": {
      "needs_background": "light"
     },
     "output_type": "display_data"
    }
   ],
   "source": [
    "df[\"Price_cat\"].hist()"
   ]
  },
  {
   "cell_type": "markdown",
   "id": "012bb994",
   "metadata": {},
   "source": [
    "#### Stratified"
   ]
  },
  {
   "cell_type": "code",
   "execution_count": 20,
   "id": "8721668b",
   "metadata": {},
   "outputs": [],
   "source": [
    "from sklearn.model_selection import StratifiedShuffleSplit\n",
    "\n",
    "split = StratifiedShuffleSplit(n_splits=1, test_size=0.2, random_state=5)\n",
    "for train_index, test_index in split.split(df, df[\"Price_cat\"]):\n",
    "    strat_train_set = df.loc[train_index]\n",
    "    strat_test_set = df.loc[test_index]"
   ]
  },
  {
   "cell_type": "code",
   "execution_count": 21,
   "id": "c24fba5c",
   "metadata": {},
   "outputs": [
    {
     "data": {
      "text/plain": [
       "8-12k     0.569444\n",
       "4-8k      0.211806\n",
       "12-16k    0.121528\n",
       "16k+      0.097222\n",
       "0-4k      0.000000\n",
       "Name: Price_cat, dtype: float64"
      ]
     },
     "execution_count": 21,
     "metadata": {},
     "output_type": "execute_result"
    }
   ],
   "source": [
    "strat_test_set[\"Price_cat\"].value_counts() / len(strat_test_set)"
   ]
  },
  {
   "cell_type": "code",
   "execution_count": 22,
   "id": "b1e0d6db",
   "metadata": {},
   "outputs": [
    {
     "data": {
      "text/plain": [
       "8-12k     0.571031\n",
       "4-8k      0.211699\n",
       "12-16k    0.119777\n",
       "16k+      0.097493\n",
       "0-4k      0.000000\n",
       "Name: Price_cat, dtype: float64"
      ]
     },
     "execution_count": 22,
     "metadata": {},
     "output_type": "execute_result"
    }
   ],
   "source": [
    "df[\"Price_cat\"].value_counts() / len(df)"
   ]
  },
  {
   "cell_type": "code",
   "execution_count": 23,
   "id": "4a815928",
   "metadata": {},
   "outputs": [],
   "source": [
    "def income_cat_proportions(data):\n",
    "    return data[\"Price_cat\"].value_counts() / len(data)\n",
    "\n",
    "train_set, test_set = train_test_split(df, test_size=0.2, random_state=42)\n",
    "\n",
    "compare_props = pd.DataFrame({\n",
    "    \"Overall\": income_cat_proportions(df),\n",
    "    \"Stratified\": income_cat_proportions(strat_test_set),\n",
    "    \"Random\": income_cat_proportions(test_set),\n",
    "}).sort_index()\n",
    "compare_props[\"Rand. %error\"] = 100 * compare_props[\"Random\"] / compare_props[\"Overall\"] - 100\n",
    "compare_props[\"Strat. %error\"] = 100 * compare_props[\"Stratified\"] / compare_props[\"Overall\"] - 100"
   ]
  },
  {
   "cell_type": "code",
   "execution_count": 24,
   "id": "5d7b0aa8",
   "metadata": {},
   "outputs": [
    {
     "data": {
      "text/html": [
       "<div>\n",
       "<style scoped>\n",
       "    .dataframe tbody tr th:only-of-type {\n",
       "        vertical-align: middle;\n",
       "    }\n",
       "\n",
       "    .dataframe tbody tr th {\n",
       "        vertical-align: top;\n",
       "    }\n",
       "\n",
       "    .dataframe thead th {\n",
       "        text-align: right;\n",
       "    }\n",
       "</style>\n",
       "<table border=\"1\" class=\"dataframe\">\n",
       "  <thead>\n",
       "    <tr style=\"text-align: right;\">\n",
       "      <th></th>\n",
       "      <th>Overall</th>\n",
       "      <th>Stratified</th>\n",
       "      <th>Random</th>\n",
       "      <th>Rand. %error</th>\n",
       "      <th>Strat. %error</th>\n",
       "    </tr>\n",
       "  </thead>\n",
       "  <tbody>\n",
       "    <tr>\n",
       "      <th>0-4k</th>\n",
       "      <td>0.000000</td>\n",
       "      <td>0.000000</td>\n",
       "      <td>0.000000</td>\n",
       "      <td>NaN</td>\n",
       "      <td>NaN</td>\n",
       "    </tr>\n",
       "    <tr>\n",
       "      <th>4-8k</th>\n",
       "      <td>0.211699</td>\n",
       "      <td>0.211806</td>\n",
       "      <td>0.232639</td>\n",
       "      <td>9.891265</td>\n",
       "      <td>0.050256</td>\n",
       "    </tr>\n",
       "    <tr>\n",
       "      <th>8-12k</th>\n",
       "      <td>0.571031</td>\n",
       "      <td>0.569444</td>\n",
       "      <td>0.552083</td>\n",
       "      <td>-3.318089</td>\n",
       "      <td>-0.277778</td>\n",
       "    </tr>\n",
       "    <tr>\n",
       "      <th>12-16k</th>\n",
       "      <td>0.119777</td>\n",
       "      <td>0.121528</td>\n",
       "      <td>0.125000</td>\n",
       "      <td>4.360465</td>\n",
       "      <td>1.461563</td>\n",
       "    </tr>\n",
       "    <tr>\n",
       "      <th>16k+</th>\n",
       "      <td>0.097493</td>\n",
       "      <td>0.097222</td>\n",
       "      <td>0.090278</td>\n",
       "      <td>-7.400794</td>\n",
       "      <td>-0.277778</td>\n",
       "    </tr>\n",
       "  </tbody>\n",
       "</table>\n",
       "</div>"
      ],
      "text/plain": [
       "         Overall  Stratified    Random  Rand. %error  Strat. %error\n",
       "0-4k    0.000000    0.000000  0.000000           NaN            NaN\n",
       "4-8k    0.211699    0.211806  0.232639      9.891265       0.050256\n",
       "8-12k   0.571031    0.569444  0.552083     -3.318089      -0.277778\n",
       "12-16k  0.119777    0.121528  0.125000      4.360465       1.461563\n",
       "16k+    0.097493    0.097222  0.090278     -7.400794      -0.277778"
      ]
     },
     "execution_count": 24,
     "metadata": {},
     "output_type": "execute_result"
    }
   ],
   "source": [
    "compare_props"
   ]
  },
  {
   "cell_type": "markdown",
   "id": "fb2f4941",
   "metadata": {},
   "source": [
    "#### Visualization"
   ]
  },
  {
   "cell_type": "code",
   "execution_count": 25,
   "id": "5fbc00dd",
   "metadata": {},
   "outputs": [
    {
     "data": {
      "text/plain": [
       "<AxesSubplot:xlabel='KM', ylabel='Price'>"
      ]
     },
     "execution_count": 25,
     "metadata": {},
     "output_type": "execute_result"
    },
    {
     "data": {
      "image/png": "[encoded data removed]",
      "text/plain": [
       "<Figure size 432x288 with 1 Axes>"
      ]
     },
     "metadata": {
      "needs_background": "light"
     },
     "output_type": "display_data"
    }
   ],
   "source": [
    "df.plot(kind=\"scatter\", x=\"KM\", y=\"Price\")"
   ]
  },
  {
   "cell_type": "code",
   "execution_count": 26,
   "id": "535ea695",
   "metadata": {},
   "outputs": [
    {
     "data": {
      "text/plain": [
       "<AxesSubplot:xlabel='Age', ylabel='Price'>"
      ]
     },
     "execution_count": 26,
     "metadata": {},
     "output_type": "execute_result"
    },
    {
     "data": {
      "image/png": "[encoded data removed]",
      "text/plain": [
       "<Figure size 432x288 with 1 Axes>"
      ]
     },
     "metadata": {
      "needs_background": "light"
     },
     "output_type": "display_data"
    }
   ],
   "source": [
    "df.plot(kind=\"scatter\", x=\"Age\", y=\"Price\")"
   ]
  },
  {
   "cell_type": "code",
   "execution_count": 27,
   "id": "84560ff9",
   "metadata": {},
   "outputs": [
    {
     "data": {
      "text/plain": [
       "<AxesSubplot:xlabel='HP', ylabel='Price'>"
      ]
     },
     "execution_count": 27,
     "metadata": {},
     "output_type": "execute_result"
    },
    {
     "data": {
      "image/png": "[encoded data removed]",
      "text/plain": [
       "<Figure size 432x288 with 1 Axes>"
      ]
     },
     "metadata": {
      "needs_background": "light"
     },
     "output_type": "display_data"
    }
   ],
   "source": [
    "df.plot(kind=\"scatter\", x=\"HP\", y=\"Price\")"
   ]
  },
  {
   "cell_type": "code",
   "execution_count": 28,
   "id": "10189a10",
   "metadata": {},
   "outputs": [
    {
     "data": {
      "text/plain": [
       "<AxesSubplot:xlabel='CC', ylabel='Price'>"
      ]
     },
     "execution_count": 28,
     "metadata": {},
     "output_type": "execute_result"
    },
    {
     "data": {
      "image/png": "[encoded data removed]",
      "text/plain": [
       "<Figure size 432x288 with 1 Axes>"
      ]
     },
     "metadata": {
      "needs_background": "light"
     },
     "output_type": "display_data"
    }
   ],
   "source": [
    "df.plot(kind=\"scatter\", x=\"CC\", y=\"Price\")"
   ]
  },
  {
   "cell_type": "markdown",
   "id": "25ae1dbc",
   "metadata": {},
   "source": [
    "#### Correlations"
   ]
  },
  {
   "cell_type": "code",
   "execution_count": 29,
   "id": "117b6290",
   "metadata": {},
   "outputs": [],
   "source": [
    "corr_matrix = df.corr()"
   ]
  },
  {
   "cell_type": "code",
   "execution_count": 30,
   "id": "caafb9ce",
   "metadata": {},
   "outputs": [
    {
     "data": {
      "text/plain": [
       "Price        1.000000\n",
       "Weight       0.581198\n",
       "HP           0.314990\n",
       "Doors        0.185326\n",
       "CC           0.165067\n",
       "MetColor     0.108905\n",
       "Automatic    0.033081\n",
       "KM          -0.569960\n",
       "Age         -0.876590\n",
       "Name: Price, dtype: float64"
      ]
     },
     "execution_count": 30,
     "metadata": {},
     "output_type": "execute_result"
    }
   ],
   "source": [
    "corr_matrix[\"Price\"].sort_values(ascending=False)"
   ]
  },
  {
   "cell_type": "code",
   "execution_count": 31,
   "id": "bfd3bc64",
   "metadata": {},
   "outputs": [
    {
     "data": {
      "text/plain": [
       "array([[<AxesSubplot:xlabel='Price', ylabel='Price'>,\n",
       "        <AxesSubplot:xlabel='Weight', ylabel='Price'>,\n",
       "        <AxesSubplot:xlabel='HP', ylabel='Price'>,\n",
       "        <AxesSubplot:xlabel='Doors', ylabel='Price'>,\n",
       "        <AxesSubplot:xlabel='CC', ylabel='Price'>,\n",
       "        <AxesSubplot:xlabel='MetColor', ylabel='Price'>],\n",
       "       [<AxesSubplot:xlabel='Price', ylabel='Weight'>,\n",
       "        <AxesSubplot:xlabel='Weight', ylabel='Weight'>,\n",
       "        <AxesSubplot:xlabel='HP', ylabel='Weight'>,\n",
       "        <AxesSubplot:xlabel='Doors', ylabel='Weight'>,\n",
       "        <AxesSubplot:xlabel='CC', ylabel='Weight'>,\n",
       "        <AxesSubplot:xlabel='MetColor', ylabel='Weight'>],\n",
       "       [<AxesSubplot:xlabel='Price', ylabel='HP'>,\n",
       "        <AxesSubplot:xlabel='Weight', ylabel='HP'>,\n",
       "        <AxesSubplot:xlabel='HP', ylabel='HP'>,\n",
       "        <AxesSubplot:xlabel='Doors', ylabel='HP'>,\n",
       "        <AxesSubplot:xlabel='CC', ylabel='HP'>,\n",
       "        <AxesSubplot:xlabel='MetColor', ylabel='HP'>],\n",
       "       [<AxesSubplot:xlabel='Price', ylabel='Doors'>,\n",
       "        <AxesSubplot:xlabel='Weight', ylabel='Doors'>,\n",
       "        <AxesSubplot:xlabel='HP', ylabel='Doors'>,\n",
       "        <AxesSubplot:xlabel='Doors', ylabel='Doors'>,\n",
       "        <AxesSubplot:xlabel='CC', ylabel='Doors'>,\n",
       "        <AxesSubplot:xlabel='MetColor', ylabel='Doors'>],\n",
       "       [<AxesSubplot:xlabel='Price', ylabel='CC'>,\n",
       "        <AxesSubplot:xlabel='Weight', ylabel='CC'>,\n",
       "        <AxesSubplot:xlabel='HP', ylabel='CC'>,\n",
       "        <AxesSubplot:xlabel='Doors', ylabel='CC'>,\n",
       "        <AxesSubplot:xlabel='CC', ylabel='CC'>,\n",
       "        <AxesSubplot:xlabel='MetColor', ylabel='CC'>],\n",
       "       [<AxesSubplot:xlabel='Price', ylabel='MetColor'>,\n",
       "        <AxesSubplot:xlabel='Weight', ylabel='MetColor'>,\n",
       "        <AxesSubplot:xlabel='HP', ylabel='MetColor'>,\n",
       "        <AxesSubplot:xlabel='Doors', ylabel='MetColor'>,\n",
       "        <AxesSubplot:xlabel='CC', ylabel='MetColor'>,\n",
       "        <AxesSubplot:xlabel='MetColor', ylabel='MetColor'>]], dtype=object)"
      ]
     },
     "execution_count": 31,
     "metadata": {},
     "output_type": "execute_result"
    },
    {
     "data": {
      "image/png": "[encoded data removed]",
      "text/plain": [
       "<Figure size 1296x864 with 36 Axes>"
      ]
     },
     "metadata": {
      "needs_background": "light"
     },
     "output_type": "display_data"
    }
   ],
   "source": [
    "from pandas.plotting import scatter_matrix\n",
    "\n",
    "attributes = [\"Price\", \"Weight\", \"HP\", \"Doors\", \"CC\", \"MetColor\"]\n",
    "scatter_matrix(df[attributes], figsize=(18, 12))"
   ]
  },
  {
   "cell_type": "code",
   "execution_count": 32,
   "id": "f1f240e5",
   "metadata": {},
   "outputs": [
    {
     "data": {
      "text/plain": [
       "Index(['Price', 'Age', 'KM', 'FuelType', 'HP', 'MetColor', 'Automatic', 'CC',\n",
       "       'Doors', 'Weight', 'Price_cat'],\n",
       "      dtype='object')"
      ]
     },
     "execution_count": 32,
     "metadata": {},
     "output_type": "execute_result"
    }
   ],
   "source": [
    "df.columns"
   ]
  },
  {
   "cell_type": "markdown",
   "id": "27361c61",
   "metadata": {},
   "source": [
    "#### Data Cleaning"
   ]
  },
  {
   "cell_type": "code",
   "execution_count": 33,
   "id": "26a8fcf5",
   "metadata": {},
   "outputs": [
    {
     "data": {
      "text/html": [
       "<div>\n",
       "<style scoped>\n",
       "    .dataframe tbody tr th:only-of-type {\n",
       "        vertical-align: middle;\n",
       "    }\n",
       "\n",
       "    .dataframe tbody tr th {\n",
       "        vertical-align: top;\n",
       "    }\n",
       "\n",
       "    .dataframe thead th {\n",
       "        text-align: right;\n",
       "    }\n",
       "</style>\n",
       "<table border=\"1\" class=\"dataframe\">\n",
       "  <thead>\n",
       "    <tr style=\"text-align: right;\">\n",
       "      <th></th>\n",
       "      <th>Price</th>\n",
       "      <th>Age</th>\n",
       "      <th>KM</th>\n",
       "      <th>FuelType</th>\n",
       "      <th>HP</th>\n",
       "      <th>MetColor</th>\n",
       "      <th>Automatic</th>\n",
       "      <th>CC</th>\n",
       "      <th>Doors</th>\n",
       "      <th>Weight</th>\n",
       "      <th>Price_cat</th>\n",
       "    </tr>\n",
       "  </thead>\n",
       "  <tbody>\n",
       "    <tr>\n",
       "      <th>0</th>\n",
       "      <td>13500</td>\n",
       "      <td>23</td>\n",
       "      <td>46986</td>\n",
       "      <td>Diesel</td>\n",
       "      <td>90</td>\n",
       "      <td>1</td>\n",
       "      <td>0</td>\n",
       "      <td>2000</td>\n",
       "      <td>3</td>\n",
       "      <td>1165</td>\n",
       "      <td>12-16k</td>\n",
       "    </tr>\n",
       "    <tr>\n",
       "      <th>1</th>\n",
       "      <td>13750</td>\n",
       "      <td>23</td>\n",
       "      <td>72937</td>\n",
       "      <td>Diesel</td>\n",
       "      <td>90</td>\n",
       "      <td>1</td>\n",
       "      <td>0</td>\n",
       "      <td>2000</td>\n",
       "      <td>3</td>\n",
       "      <td>1165</td>\n",
       "      <td>12-16k</td>\n",
       "    </tr>\n",
       "    <tr>\n",
       "      <th>2</th>\n",
       "      <td>13950</td>\n",
       "      <td>24</td>\n",
       "      <td>41711</td>\n",
       "      <td>Diesel</td>\n",
       "      <td>90</td>\n",
       "      <td>1</td>\n",
       "      <td>0</td>\n",
       "      <td>2000</td>\n",
       "      <td>3</td>\n",
       "      <td>1165</td>\n",
       "      <td>12-16k</td>\n",
       "    </tr>\n",
       "    <tr>\n",
       "      <th>3</th>\n",
       "      <td>14950</td>\n",
       "      <td>26</td>\n",
       "      <td>48000</td>\n",
       "      <td>Diesel</td>\n",
       "      <td>90</td>\n",
       "      <td>0</td>\n",
       "      <td>0</td>\n",
       "      <td>2000</td>\n",
       "      <td>3</td>\n",
       "      <td>1165</td>\n",
       "      <td>12-16k</td>\n",
       "    </tr>\n",
       "    <tr>\n",
       "      <th>4</th>\n",
       "      <td>13750</td>\n",
       "      <td>30</td>\n",
       "      <td>38500</td>\n",
       "      <td>Diesel</td>\n",
       "      <td>90</td>\n",
       "      <td>0</td>\n",
       "      <td>0</td>\n",
       "      <td>2000</td>\n",
       "      <td>3</td>\n",
       "      <td>1170</td>\n",
       "      <td>12-16k</td>\n",
       "    </tr>\n",
       "    <tr>\n",
       "      <th>...</th>\n",
       "      <td>...</td>\n",
       "      <td>...</td>\n",
       "      <td>...</td>\n",
       "      <td>...</td>\n",
       "      <td>...</td>\n",
       "      <td>...</td>\n",
       "      <td>...</td>\n",
       "      <td>...</td>\n",
       "      <td>...</td>\n",
       "      <td>...</td>\n",
       "      <td>...</td>\n",
       "    </tr>\n",
       "    <tr>\n",
       "      <th>1431</th>\n",
       "      <td>7500</td>\n",
       "      <td>69</td>\n",
       "      <td>20544</td>\n",
       "      <td>Petrol</td>\n",
       "      <td>86</td>\n",
       "      <td>1</td>\n",
       "      <td>0</td>\n",
       "      <td>1300</td>\n",
       "      <td>3</td>\n",
       "      <td>1025</td>\n",
       "      <td>4-8k</td>\n",
       "    </tr>\n",
       "    <tr>\n",
       "      <th>1432</th>\n",
       "      <td>10845</td>\n",
       "      <td>72</td>\n",
       "      <td>19000</td>\n",
       "      <td>Petrol</td>\n",
       "      <td>86</td>\n",
       "      <td>0</td>\n",
       "      <td>0</td>\n",
       "      <td>1300</td>\n",
       "      <td>3</td>\n",
       "      <td>1015</td>\n",
       "      <td>8-12k</td>\n",
       "    </tr>\n",
       "    <tr>\n",
       "      <th>1433</th>\n",
       "      <td>8500</td>\n",
       "      <td>71</td>\n",
       "      <td>17016</td>\n",
       "      <td>Petrol</td>\n",
       "      <td>86</td>\n",
       "      <td>0</td>\n",
       "      <td>0</td>\n",
       "      <td>1300</td>\n",
       "      <td>3</td>\n",
       "      <td>1015</td>\n",
       "      <td>8-12k</td>\n",
       "    </tr>\n",
       "    <tr>\n",
       "      <th>1434</th>\n",
       "      <td>7250</td>\n",
       "      <td>70</td>\n",
       "      <td>16916</td>\n",
       "      <td>Petrol</td>\n",
       "      <td>86</td>\n",
       "      <td>1</td>\n",
       "      <td>0</td>\n",
       "      <td>1300</td>\n",
       "      <td>3</td>\n",
       "      <td>1015</td>\n",
       "      <td>4-8k</td>\n",
       "    </tr>\n",
       "    <tr>\n",
       "      <th>1435</th>\n",
       "      <td>6950</td>\n",
       "      <td>76</td>\n",
       "      <td>1</td>\n",
       "      <td>Petrol</td>\n",
       "      <td>110</td>\n",
       "      <td>0</td>\n",
       "      <td>0</td>\n",
       "      <td>1600</td>\n",
       "      <td>5</td>\n",
       "      <td>1114</td>\n",
       "      <td>4-8k</td>\n",
       "    </tr>\n",
       "  </tbody>\n",
       "</table>\n",
       "<p>1436 rows × 11 columns</p>\n",
       "</div>"
      ],
      "text/plain": [
       "      Price  Age     KM FuelType   HP  MetColor  Automatic    CC  Doors  \\\n",
       "0     13500   23  46986   Diesel   90         1          0  2000      3   \n",
       "1     13750   23  72937   Diesel   90         1          0  2000      3   \n",
       "2     13950   24  41711   Diesel   90         1          0  2000      3   \n",
       "3     14950   26  48000   Diesel   90         0          0  2000      3   \n",
       "4     13750   30  38500   Diesel   90         0          0  2000      3   \n",
       "...     ...  ...    ...      ...  ...       ...        ...   ...    ...   \n",
       "1431   7500   69  20544   Petrol   86         1          0  1300      3   \n",
       "1432  10845   72  19000   Petrol   86         0          0  1300      3   \n",
       "1433   8500   71  17016   Petrol   86         0          0  1300      3   \n",
       "1434   7250   70  16916   Petrol   86         1          0  1300      3   \n",
       "1435   6950   76      1   Petrol  110         0          0  1600      5   \n",
       "\n",
       "      Weight Price_cat  \n",
       "0       1165    12-16k  \n",
       "1       1165    12-16k  \n",
       "2       1165    12-16k  \n",
       "3       1165    12-16k  \n",
       "4       1170    12-16k  \n",
       "...      ...       ...  \n",
       "1431    1025      4-8k  \n",
       "1432    1015     8-12k  \n",
       "1433    1015     8-12k  \n",
       "1434    1015      4-8k  \n",
       "1435    1114      4-8k  \n",
       "\n",
       "[1436 rows x 11 columns]"
      ]
     },
     "execution_count": 33,
     "metadata": {},
     "output_type": "execute_result"
    }
   ],
   "source": [
    "df.dropna()"
   ]
  },
  {
   "cell_type": "code",
   "execution_count": 34,
   "id": "7cb1e86d",
   "metadata": {},
   "outputs": [
    {
     "data": {
      "text/html": [
       "<div>\n",
       "<style scoped>\n",
       "    .dataframe tbody tr th:only-of-type {\n",
       "        vertical-align: middle;\n",
       "    }\n",
       "\n",
       "    .dataframe tbody tr th {\n",
       "        vertical-align: top;\n",
       "    }\n",
       "\n",
       "    .dataframe thead th {\n",
       "        text-align: right;\n",
       "    }\n",
       "</style>\n",
       "<table border=\"1\" class=\"dataframe\">\n",
       "  <thead>\n",
       "    <tr style=\"text-align: right;\">\n",
       "      <th></th>\n",
       "      <th>Price</th>\n",
       "      <th>Age</th>\n",
       "      <th>KM</th>\n",
       "      <th>FuelType</th>\n",
       "      <th>HP</th>\n",
       "      <th>MetColor</th>\n",
       "      <th>Automatic</th>\n",
       "      <th>CC</th>\n",
       "      <th>Doors</th>\n",
       "      <th>Weight</th>\n",
       "    </tr>\n",
       "  </thead>\n",
       "  <tbody>\n",
       "    <tr>\n",
       "      <th>0</th>\n",
       "      <td>13500</td>\n",
       "      <td>23</td>\n",
       "      <td>46986</td>\n",
       "      <td>Diesel</td>\n",
       "      <td>90</td>\n",
       "      <td>1</td>\n",
       "      <td>0</td>\n",
       "      <td>2000</td>\n",
       "      <td>3</td>\n",
       "      <td>1165</td>\n",
       "    </tr>\n",
       "    <tr>\n",
       "      <th>1</th>\n",
       "      <td>13750</td>\n",
       "      <td>23</td>\n",
       "      <td>72937</td>\n",
       "      <td>Diesel</td>\n",
       "      <td>90</td>\n",
       "      <td>1</td>\n",
       "      <td>0</td>\n",
       "      <td>2000</td>\n",
       "      <td>3</td>\n",
       "      <td>1165</td>\n",
       "    </tr>\n",
       "    <tr>\n",
       "      <th>2</th>\n",
       "      <td>13950</td>\n",
       "      <td>24</td>\n",
       "      <td>41711</td>\n",
       "      <td>Diesel</td>\n",
       "      <td>90</td>\n",
       "      <td>1</td>\n",
       "      <td>0</td>\n",
       "      <td>2000</td>\n",
       "      <td>3</td>\n",
       "      <td>1165</td>\n",
       "    </tr>\n",
       "    <tr>\n",
       "      <th>3</th>\n",
       "      <td>14950</td>\n",
       "      <td>26</td>\n",
       "      <td>48000</td>\n",
       "      <td>Diesel</td>\n",
       "      <td>90</td>\n",
       "      <td>0</td>\n",
       "      <td>0</td>\n",
       "      <td>2000</td>\n",
       "      <td>3</td>\n",
       "      <td>1165</td>\n",
       "    </tr>\n",
       "    <tr>\n",
       "      <th>4</th>\n",
       "      <td>13750</td>\n",
       "      <td>30</td>\n",
       "      <td>38500</td>\n",
       "      <td>Diesel</td>\n",
       "      <td>90</td>\n",
       "      <td>0</td>\n",
       "      <td>0</td>\n",
       "      <td>2000</td>\n",
       "      <td>3</td>\n",
       "      <td>1170</td>\n",
       "    </tr>\n",
       "    <tr>\n",
       "      <th>...</th>\n",
       "      <td>...</td>\n",
       "      <td>...</td>\n",
       "      <td>...</td>\n",
       "      <td>...</td>\n",
       "      <td>...</td>\n",
       "      <td>...</td>\n",
       "      <td>...</td>\n",
       "      <td>...</td>\n",
       "      <td>...</td>\n",
       "      <td>...</td>\n",
       "    </tr>\n",
       "    <tr>\n",
       "      <th>1431</th>\n",
       "      <td>7500</td>\n",
       "      <td>69</td>\n",
       "      <td>20544</td>\n",
       "      <td>Petrol</td>\n",
       "      <td>86</td>\n",
       "      <td>1</td>\n",
       "      <td>0</td>\n",
       "      <td>1300</td>\n",
       "      <td>3</td>\n",
       "      <td>1025</td>\n",
       "    </tr>\n",
       "    <tr>\n",
       "      <th>1432</th>\n",
       "      <td>10845</td>\n",
       "      <td>72</td>\n",
       "      <td>19000</td>\n",
       "      <td>Petrol</td>\n",
       "      <td>86</td>\n",
       "      <td>0</td>\n",
       "      <td>0</td>\n",
       "      <td>1300</td>\n",
       "      <td>3</td>\n",
       "      <td>1015</td>\n",
       "    </tr>\n",
       "    <tr>\n",
       "      <th>1433</th>\n",
       "      <td>8500</td>\n",
       "      <td>71</td>\n",
       "      <td>17016</td>\n",
       "      <td>Petrol</td>\n",
       "      <td>86</td>\n",
       "      <td>0</td>\n",
       "      <td>0</td>\n",
       "      <td>1300</td>\n",
       "      <td>3</td>\n",
       "      <td>1015</td>\n",
       "    </tr>\n",
       "    <tr>\n",
       "      <th>1434</th>\n",
       "      <td>7250</td>\n",
       "      <td>70</td>\n",
       "      <td>16916</td>\n",
       "      <td>Petrol</td>\n",
       "      <td>86</td>\n",
       "      <td>1</td>\n",
       "      <td>0</td>\n",
       "      <td>1300</td>\n",
       "      <td>3</td>\n",
       "      <td>1015</td>\n",
       "    </tr>\n",
       "    <tr>\n",
       "      <th>1435</th>\n",
       "      <td>6950</td>\n",
       "      <td>76</td>\n",
       "      <td>1</td>\n",
       "      <td>Petrol</td>\n",
       "      <td>110</td>\n",
       "      <td>0</td>\n",
       "      <td>0</td>\n",
       "      <td>1600</td>\n",
       "      <td>5</td>\n",
       "      <td>1114</td>\n",
       "    </tr>\n",
       "  </tbody>\n",
       "</table>\n",
       "<p>1436 rows × 10 columns</p>\n",
       "</div>"
      ],
      "text/plain": [
       "      Price  Age     KM FuelType   HP  MetColor  Automatic    CC  Doors  \\\n",
       "0     13500   23  46986   Diesel   90         1          0  2000      3   \n",
       "1     13750   23  72937   Diesel   90         1          0  2000      3   \n",
       "2     13950   24  41711   Diesel   90         1          0  2000      3   \n",
       "3     14950   26  48000   Diesel   90         0          0  2000      3   \n",
       "4     13750   30  38500   Diesel   90         0          0  2000      3   \n",
       "...     ...  ...    ...      ...  ...       ...        ...   ...    ...   \n",
       "1431   7500   69  20544   Petrol   86         1          0  1300      3   \n",
       "1432  10845   72  19000   Petrol   86         0          0  1300      3   \n",
       "1433   8500   71  17016   Petrol   86         0          0  1300      3   \n",
       "1434   7250   70  16916   Petrol   86         1          0  1300      3   \n",
       "1435   6950   76      1   Petrol  110         0          0  1600      5   \n",
       "\n",
       "      Weight  \n",
       "0       1165  \n",
       "1       1165  \n",
       "2       1165  \n",
       "3       1165  \n",
       "4       1170  \n",
       "...      ...  \n",
       "1431    1025  \n",
       "1432    1015  \n",
       "1433    1015  \n",
       "1434    1015  \n",
       "1435    1114  \n",
       "\n",
       "[1436 rows x 10 columns]"
      ]
     },
     "execution_count": 34,
     "metadata": {},
     "output_type": "execute_result"
    }
   ],
   "source": [
    "#Dropping additionally added columns\n",
    "df.drop(axis=1, columns=['Price_cat'])"
   ]
  },
  {
   "cell_type": "code",
   "execution_count": 35,
   "id": "fad88a93",
   "metadata": {},
   "outputs": [
    {
     "data": {
      "text/plain": [
       "Price        1436\n",
       "Age          1436\n",
       "KM           1436\n",
       "FuelType     1436\n",
       "HP           1436\n",
       "MetColor     1436\n",
       "Automatic    1436\n",
       "CC           1436\n",
       "Doors        1436\n",
       "Weight       1436\n",
       "Price_cat    1436\n",
       "dtype: int64"
      ]
     },
     "execution_count": 35,
     "metadata": {},
     "output_type": "execute_result"
    }
   ],
   "source": [
    "df.count()"
   ]
  },
  {
   "cell_type": "markdown",
   "id": "2e4a034d",
   "metadata": {},
   "source": [
    "As the count is same for all the columns in dataframe, we can assume that there are no more null values."
   ]
  },
  {
   "cell_type": "markdown",
   "id": "7919858b",
   "metadata": {},
   "source": [
    "#### Dummyfying categorical variables"
   ]
  },
  {
   "cell_type": "markdown",
   "id": "455f4fb9",
   "metadata": {},
   "source": [
    "Dummyfying here with get_dummies and later with one hot encoder"
   ]
  },
  {
   "cell_type": "code",
   "execution_count": 36,
   "id": "bc0fdf6d",
   "metadata": {},
   "outputs": [],
   "source": [
    "# Dummifying predictors\n",
    "df = pd.get_dummies(df, columns = ['FuelType'])"
   ]
  },
  {
   "cell_type": "code",
   "execution_count": 37,
   "id": "59a46892",
   "metadata": {},
   "outputs": [
    {
     "data": {
      "text/html": [
       "<div>\n",
       "<style scoped>\n",
       "    .dataframe tbody tr th:only-of-type {\n",
       "        vertical-align: middle;\n",
       "    }\n",
       "\n",
       "    .dataframe tbody tr th {\n",
       "        vertical-align: top;\n",
       "    }\n",
       "\n",
       "    .dataframe thead th {\n",
       "        text-align: right;\n",
       "    }\n",
       "</style>\n",
       "<table border=\"1\" class=\"dataframe\">\n",
       "  <thead>\n",
       "    <tr style=\"text-align: right;\">\n",
       "      <th></th>\n",
       "      <th>Price</th>\n",
       "      <th>Age</th>\n",
       "      <th>KM</th>\n",
       "      <th>HP</th>\n",
       "      <th>MetColor</th>\n",
       "      <th>Automatic</th>\n",
       "      <th>CC</th>\n",
       "      <th>Doors</th>\n",
       "      <th>Weight</th>\n",
       "      <th>Price_cat</th>\n",
       "      <th>FuelType_CNG</th>\n",
       "      <th>FuelType_Diesel</th>\n",
       "      <th>FuelType_Petrol</th>\n",
       "    </tr>\n",
       "  </thead>\n",
       "  <tbody>\n",
       "    <tr>\n",
       "      <th>0</th>\n",
       "      <td>13500</td>\n",
       "      <td>23</td>\n",
       "      <td>46986</td>\n",
       "      <td>90</td>\n",
       "      <td>1</td>\n",
       "      <td>0</td>\n",
       "      <td>2000</td>\n",
       "      <td>3</td>\n",
       "      <td>1165</td>\n",
       "      <td>12-16k</td>\n",
       "      <td>0</td>\n",
       "      <td>1</td>\n",
       "      <td>0</td>\n",
       "    </tr>\n",
       "    <tr>\n",
       "      <th>1</th>\n",
       "      <td>13750</td>\n",
       "      <td>23</td>\n",
       "      <td>72937</td>\n",
       "      <td>90</td>\n",
       "      <td>1</td>\n",
       "      <td>0</td>\n",
       "      <td>2000</td>\n",
       "      <td>3</td>\n",
       "      <td>1165</td>\n",
       "      <td>12-16k</td>\n",
       "      <td>0</td>\n",
       "      <td>1</td>\n",
       "      <td>0</td>\n",
       "    </tr>\n",
       "    <tr>\n",
       "      <th>2</th>\n",
       "      <td>13950</td>\n",
       "      <td>24</td>\n",
       "      <td>41711</td>\n",
       "      <td>90</td>\n",
       "      <td>1</td>\n",
       "      <td>0</td>\n",
       "      <td>2000</td>\n",
       "      <td>3</td>\n",
       "      <td>1165</td>\n",
       "      <td>12-16k</td>\n",
       "      <td>0</td>\n",
       "      <td>1</td>\n",
       "      <td>0</td>\n",
       "    </tr>\n",
       "    <tr>\n",
       "      <th>3</th>\n",
       "      <td>14950</td>\n",
       "      <td>26</td>\n",
       "      <td>48000</td>\n",
       "      <td>90</td>\n",
       "      <td>0</td>\n",
       "      <td>0</td>\n",
       "      <td>2000</td>\n",
       "      <td>3</td>\n",
       "      <td>1165</td>\n",
       "      <td>12-16k</td>\n",
       "      <td>0</td>\n",
       "      <td>1</td>\n",
       "      <td>0</td>\n",
       "    </tr>\n",
       "    <tr>\n",
       "      <th>4</th>\n",
       "      <td>13750</td>\n",
       "      <td>30</td>\n",
       "      <td>38500</td>\n",
       "      <td>90</td>\n",
       "      <td>0</td>\n",
       "      <td>0</td>\n",
       "      <td>2000</td>\n",
       "      <td>3</td>\n",
       "      <td>1170</td>\n",
       "      <td>12-16k</td>\n",
       "      <td>0</td>\n",
       "      <td>1</td>\n",
       "      <td>0</td>\n",
       "    </tr>\n",
       "    <tr>\n",
       "      <th>...</th>\n",
       "      <td>...</td>\n",
       "      <td>...</td>\n",
       "      <td>...</td>\n",
       "      <td>...</td>\n",
       "      <td>...</td>\n",
       "      <td>...</td>\n",
       "      <td>...</td>\n",
       "      <td>...</td>\n",
       "      <td>...</td>\n",
       "      <td>...</td>\n",
       "      <td>...</td>\n",
       "      <td>...</td>\n",
       "      <td>...</td>\n",
       "    </tr>\n",
       "    <tr>\n",
       "      <th>1431</th>\n",
       "      <td>7500</td>\n",
       "      <td>69</td>\n",
       "      <td>20544</td>\n",
       "      <td>86</td>\n",
       "      <td>1</td>\n",
       "      <td>0</td>\n",
       "      <td>1300</td>\n",
       "      <td>3</td>\n",
       "      <td>1025</td>\n",
       "      <td>4-8k</td>\n",
       "      <td>0</td>\n",
       "      <td>0</td>\n",
       "      <td>1</td>\n",
       "    </tr>\n",
       "    <tr>\n",
       "      <th>1432</th>\n",
       "      <td>10845</td>\n",
       "      <td>72</td>\n",
       "      <td>19000</td>\n",
       "      <td>86</td>\n",
       "      <td>0</td>\n",
       "      <td>0</td>\n",
       "      <td>1300</td>\n",
       "      <td>3</td>\n",
       "      <td>1015</td>\n",
       "      <td>8-12k</td>\n",
       "      <td>0</td>\n",
       "      <td>0</td>\n",
       "      <td>1</td>\n",
       "    </tr>\n",
       "    <tr>\n",
       "      <th>1433</th>\n",
       "      <td>8500</td>\n",
       "      <td>71</td>\n",
       "      <td>17016</td>\n",
       "      <td>86</td>\n",
       "      <td>0</td>\n",
       "      <td>0</td>\n",
       "      <td>1300</td>\n",
       "      <td>3</td>\n",
       "      <td>1015</td>\n",
       "      <td>8-12k</td>\n",
       "      <td>0</td>\n",
       "      <td>0</td>\n",
       "      <td>1</td>\n",
       "    </tr>\n",
       "    <tr>\n",
       "      <th>1434</th>\n",
       "      <td>7250</td>\n",
       "      <td>70</td>\n",
       "      <td>16916</td>\n",
       "      <td>86</td>\n",
       "      <td>1</td>\n",
       "      <td>0</td>\n",
       "      <td>1300</td>\n",
       "      <td>3</td>\n",
       "      <td>1015</td>\n",
       "      <td>4-8k</td>\n",
       "      <td>0</td>\n",
       "      <td>0</td>\n",
       "      <td>1</td>\n",
       "    </tr>\n",
       "    <tr>\n",
       "      <th>1435</th>\n",
       "      <td>6950</td>\n",
       "      <td>76</td>\n",
       "      <td>1</td>\n",
       "      <td>110</td>\n",
       "      <td>0</td>\n",
       "      <td>0</td>\n",
       "      <td>1600</td>\n",
       "      <td>5</td>\n",
       "      <td>1114</td>\n",
       "      <td>4-8k</td>\n",
       "      <td>0</td>\n",
       "      <td>0</td>\n",
       "      <td>1</td>\n",
       "    </tr>\n",
       "  </tbody>\n",
       "</table>\n",
       "<p>1436 rows × 13 columns</p>\n",
       "</div>"
      ],
      "text/plain": [
       "      Price  Age     KM   HP  MetColor  Automatic    CC  Doors  Weight  \\\n",
       "0     13500   23  46986   90         1          0  2000      3    1165   \n",
       "1     13750   23  72937   90         1          0  2000      3    1165   \n",
       "2     13950   24  41711   90         1          0  2000      3    1165   \n",
       "3     14950   26  48000   90         0          0  2000      3    1165   \n",
       "4     13750   30  38500   90         0          0  2000      3    1170   \n",
       "...     ...  ...    ...  ...       ...        ...   ...    ...     ...   \n",
       "1431   7500   69  20544   86         1          0  1300      3    1025   \n",
       "1432  10845   72  19000   86         0          0  1300      3    1015   \n",
       "1433   8500   71  17016   86         0          0  1300      3    1015   \n",
       "1434   7250   70  16916   86         1          0  1300      3    1015   \n",
       "1435   6950   76      1  110         0          0  1600      5    1114   \n",
       "\n",
       "     Price_cat  FuelType_CNG  FuelType_Diesel  FuelType_Petrol  \n",
       "0       12-16k             0                1                0  \n",
       "1       12-16k             0                1                0  \n",
       "2       12-16k             0                1                0  \n",
       "3       12-16k             0                1                0  \n",
       "4       12-16k             0                1                0  \n",
       "...        ...           ...              ...              ...  \n",
       "1431      4-8k             0                0                1  \n",
       "1432     8-12k             0                0                1  \n",
       "1433     8-12k             0                0                1  \n",
       "1434      4-8k             0                0                1  \n",
       "1435      4-8k             0                0                1  \n",
       "\n",
       "[1436 rows x 13 columns]"
      ]
     },
     "execution_count": 37,
     "metadata": {},
     "output_type": "execute_result"
    }
   ],
   "source": [
    "df"
   ]
  },
  {
   "cell_type": "markdown",
   "id": "98d47f0e",
   "metadata": {},
   "source": [
    "#### Dropping previously added Price category"
   ]
  },
  {
   "cell_type": "code",
   "execution_count": 38,
   "id": "a408f84a",
   "metadata": {},
   "outputs": [],
   "source": [
    "df1 = df1.drop(axis=1, columns=['Price_cat'])"
   ]
  },
  {
   "cell_type": "code",
   "execution_count": 39,
   "id": "2dc5e087",
   "metadata": {},
   "outputs": [
    {
     "data": {
      "text/html": [
       "<div>\n",
       "<style scoped>\n",
       "    .dataframe tbody tr th:only-of-type {\n",
       "        vertical-align: middle;\n",
       "    }\n",
       "\n",
       "    .dataframe tbody tr th {\n",
       "        vertical-align: top;\n",
       "    }\n",
       "\n",
       "    .dataframe thead th {\n",
       "        text-align: right;\n",
       "    }\n",
       "</style>\n",
       "<table border=\"1\" class=\"dataframe\">\n",
       "  <thead>\n",
       "    <tr style=\"text-align: right;\">\n",
       "      <th></th>\n",
       "      <th>Price</th>\n",
       "      <th>Age</th>\n",
       "      <th>KM</th>\n",
       "      <th>FuelType</th>\n",
       "      <th>HP</th>\n",
       "      <th>MetColor</th>\n",
       "      <th>Automatic</th>\n",
       "      <th>CC</th>\n",
       "      <th>Doors</th>\n",
       "      <th>Weight</th>\n",
       "    </tr>\n",
       "  </thead>\n",
       "  <tbody>\n",
       "    <tr>\n",
       "      <th>0</th>\n",
       "      <td>13500</td>\n",
       "      <td>23</td>\n",
       "      <td>46986</td>\n",
       "      <td>Diesel</td>\n",
       "      <td>90</td>\n",
       "      <td>1</td>\n",
       "      <td>0</td>\n",
       "      <td>2000</td>\n",
       "      <td>3</td>\n",
       "      <td>1165</td>\n",
       "    </tr>\n",
       "    <tr>\n",
       "      <th>1</th>\n",
       "      <td>13750</td>\n",
       "      <td>23</td>\n",
       "      <td>72937</td>\n",
       "      <td>Diesel</td>\n",
       "      <td>90</td>\n",
       "      <td>1</td>\n",
       "      <td>0</td>\n",
       "      <td>2000</td>\n",
       "      <td>3</td>\n",
       "      <td>1165</td>\n",
       "    </tr>\n",
       "    <tr>\n",
       "      <th>2</th>\n",
       "      <td>13950</td>\n",
       "      <td>24</td>\n",
       "      <td>41711</td>\n",
       "      <td>Diesel</td>\n",
       "      <td>90</td>\n",
       "      <td>1</td>\n",
       "      <td>0</td>\n",
       "      <td>2000</td>\n",
       "      <td>3</td>\n",
       "      <td>1165</td>\n",
       "    </tr>\n",
       "    <tr>\n",
       "      <th>3</th>\n",
       "      <td>14950</td>\n",
       "      <td>26</td>\n",
       "      <td>48000</td>\n",
       "      <td>Diesel</td>\n",
       "      <td>90</td>\n",
       "      <td>0</td>\n",
       "      <td>0</td>\n",
       "      <td>2000</td>\n",
       "      <td>3</td>\n",
       "      <td>1165</td>\n",
       "    </tr>\n",
       "    <tr>\n",
       "      <th>4</th>\n",
       "      <td>13750</td>\n",
       "      <td>30</td>\n",
       "      <td>38500</td>\n",
       "      <td>Diesel</td>\n",
       "      <td>90</td>\n",
       "      <td>0</td>\n",
       "      <td>0</td>\n",
       "      <td>2000</td>\n",
       "      <td>3</td>\n",
       "      <td>1170</td>\n",
       "    </tr>\n",
       "    <tr>\n",
       "      <th>...</th>\n",
       "      <td>...</td>\n",
       "      <td>...</td>\n",
       "      <td>...</td>\n",
       "      <td>...</td>\n",
       "      <td>...</td>\n",
       "      <td>...</td>\n",
       "      <td>...</td>\n",
       "      <td>...</td>\n",
       "      <td>...</td>\n",
       "      <td>...</td>\n",
       "    </tr>\n",
       "    <tr>\n",
       "      <th>1431</th>\n",
       "      <td>7500</td>\n",
       "      <td>69</td>\n",
       "      <td>20544</td>\n",
       "      <td>Petrol</td>\n",
       "      <td>86</td>\n",
       "      <td>1</td>\n",
       "      <td>0</td>\n",
       "      <td>1300</td>\n",
       "      <td>3</td>\n",
       "      <td>1025</td>\n",
       "    </tr>\n",
       "    <tr>\n",
       "      <th>1432</th>\n",
       "      <td>10845</td>\n",
       "      <td>72</td>\n",
       "      <td>19000</td>\n",
       "      <td>Petrol</td>\n",
       "      <td>86</td>\n",
       "      <td>0</td>\n",
       "      <td>0</td>\n",
       "      <td>1300</td>\n",
       "      <td>3</td>\n",
       "      <td>1015</td>\n",
       "    </tr>\n",
       "    <tr>\n",
       "      <th>1433</th>\n",
       "      <td>8500</td>\n",
       "      <td>71</td>\n",
       "      <td>17016</td>\n",
       "      <td>Petrol</td>\n",
       "      <td>86</td>\n",
       "      <td>0</td>\n",
       "      <td>0</td>\n",
       "      <td>1300</td>\n",
       "      <td>3</td>\n",
       "      <td>1015</td>\n",
       "    </tr>\n",
       "    <tr>\n",
       "      <th>1434</th>\n",
       "      <td>7250</td>\n",
       "      <td>70</td>\n",
       "      <td>16916</td>\n",
       "      <td>Petrol</td>\n",
       "      <td>86</td>\n",
       "      <td>1</td>\n",
       "      <td>0</td>\n",
       "      <td>1300</td>\n",
       "      <td>3</td>\n",
       "      <td>1015</td>\n",
       "    </tr>\n",
       "    <tr>\n",
       "      <th>1435</th>\n",
       "      <td>6950</td>\n",
       "      <td>76</td>\n",
       "      <td>1</td>\n",
       "      <td>Petrol</td>\n",
       "      <td>110</td>\n",
       "      <td>0</td>\n",
       "      <td>0</td>\n",
       "      <td>1600</td>\n",
       "      <td>5</td>\n",
       "      <td>1114</td>\n",
       "    </tr>\n",
       "  </tbody>\n",
       "</table>\n",
       "<p>1436 rows × 10 columns</p>\n",
       "</div>"
      ],
      "text/plain": [
       "      Price  Age     KM FuelType   HP  MetColor  Automatic    CC  Doors  \\\n",
       "0     13500   23  46986   Diesel   90         1          0  2000      3   \n",
       "1     13750   23  72937   Diesel   90         1          0  2000      3   \n",
       "2     13950   24  41711   Diesel   90         1          0  2000      3   \n",
       "3     14950   26  48000   Diesel   90         0          0  2000      3   \n",
       "4     13750   30  38500   Diesel   90         0          0  2000      3   \n",
       "...     ...  ...    ...      ...  ...       ...        ...   ...    ...   \n",
       "1431   7500   69  20544   Petrol   86         1          0  1300      3   \n",
       "1432  10845   72  19000   Petrol   86         0          0  1300      3   \n",
       "1433   8500   71  17016   Petrol   86         0          0  1300      3   \n",
       "1434   7250   70  16916   Petrol   86         1          0  1300      3   \n",
       "1435   6950   76      1   Petrol  110         0          0  1600      5   \n",
       "\n",
       "      Weight  \n",
       "0       1165  \n",
       "1       1165  \n",
       "2       1165  \n",
       "3       1165  \n",
       "4       1170  \n",
       "...      ...  \n",
       "1431    1025  \n",
       "1432    1015  \n",
       "1433    1015  \n",
       "1434    1015  \n",
       "1435    1114  \n",
       "\n",
       "[1436 rows x 10 columns]"
      ]
     },
     "execution_count": 39,
     "metadata": {},
     "output_type": "execute_result"
    }
   ],
   "source": [
    "df1"
   ]
  },
  {
   "cell_type": "markdown",
   "id": "04f145da",
   "metadata": {},
   "source": [
    "### Transformation pipelines"
   ]
  },
  {
   "cell_type": "code",
   "execution_count": 40,
   "id": "bbb2047a",
   "metadata": {},
   "outputs": [],
   "source": [
    "from sklearn.pipeline import Pipeline\n",
    "from sklearn.preprocessing import StandardScaler\n",
    "\n",
    "num_pipeline = Pipeline([\n",
    "        ('std_scaler', StandardScaler()),\n",
    "    ])"
   ]
  },
  {
   "cell_type": "code",
   "execution_count": 41,
   "id": "ff41f1f4",
   "metadata": {},
   "outputs": [],
   "source": [
    "from sklearn.compose import ColumnTransformer\n",
    "from sklearn.preprocessing import OneHotEncoder\n",
    "\n",
    "num_attribs = list(df1.drop(axis=1, columns=['Price','FuelType']))\n",
    "cat_attribs = [\"FuelType\"]\n",
    "\n",
    "full_pipeline = ColumnTransformer([\n",
    "        (\"num\", num_pipeline, num_attribs),\n",
    "        (\"cat\", OneHotEncoder(), cat_attribs),\n",
    "    ])"
   ]
  },
  {
   "cell_type": "code",
   "execution_count": 42,
   "id": "dd88fe75",
   "metadata": {},
   "outputs": [],
   "source": [
    "training_data = full_pipeline.fit_transform(df1)"
   ]
  },
  {
   "cell_type": "code",
   "execution_count": 43,
   "id": "45392829",
   "metadata": {},
   "outputs": [],
   "source": [
    "training_labels = df1['Price']"
   ]
  },
  {
   "cell_type": "code",
   "execution_count": 44,
   "id": "b6599fdb",
   "metadata": {},
   "outputs": [],
   "source": [
    "#test_data\n",
    "some_data = df1.iloc[:10]\n",
    "some_labels = training_labels.iloc[:10]\n",
    "some_data_prepared = full_pipeline.transform(some_data)"
   ]
  },
  {
   "cell_type": "code",
   "execution_count": 45,
   "id": "45ccbb4d",
   "metadata": {},
   "outputs": [
    {
     "data": {
      "text/plain": [
       "array([[-1.77196633, -0.57469494, -0.76804185,  0.69421909, -0.24289308,\n",
       "         2.31497633, -1.08513865,  1.75856113,  0.        ,  1.        ,\n",
       "         0.        ],\n",
       "       [-1.77196633,  0.11745379, -0.76804185,  0.69421909, -0.24289308,\n",
       "         2.31497633, -1.08513865,  1.75856113,  0.        ,  1.        ,\n",
       "         0.        ],\n",
       "       [-1.71818412, -0.71538641, -0.76804185,  0.69421909, -0.24289308,\n",
       "         2.31497633, -1.08513865,  1.75856113,  0.        ,  1.        ,\n",
       "         0.        ],\n",
       "       [-1.61061971, -0.54765017, -0.76804185, -1.44046745, -0.24289308,\n",
       "         2.31497633, -1.08513865,  1.75856113,  0.        ,  1.        ,\n",
       "         0.        ],\n",
       "       [-1.3954909 , -0.80102818, -0.76804185, -1.44046745, -0.24289308,\n",
       "         2.31497633, -1.08513865,  1.853577  ,  0.        ,  1.        ,\n",
       "         0.        ],\n",
       "       [-1.28792649, -0.20092236, -0.76804185, -1.44046745, -0.24289308,\n",
       "         2.31497633, -1.08513865,  1.853577  ,  0.        ,  1.        ,\n",
       "         0.        ],\n",
       "       [-1.55683751,  0.69555573, -0.76804185,  0.69421909, -0.24289308,\n",
       "         2.31497633, -1.08513865,  3.27881505,  0.        ,  1.        ,\n",
       "         0.        ],\n",
       "       [-1.3954909 ,  0.19618767, -0.76804185,  0.69421909, -0.24289308,\n",
       "         2.31497633, -1.08513865,  3.27881505,  0.        ,  1.        ,\n",
       "         0.        ],\n",
       "       [-1.55683751, -1.30244993,  6.04291811, -1.44046745, -0.24289308,\n",
       "         1.24612779, -1.08513865,  2.13862461,  0.        ,  0.        ,\n",
       "         1.        ],\n",
       "       [-1.77196633,  0.06947199, -2.17029831, -1.44046745, -0.24289308,\n",
       "         1.78055206, -1.08513865,  0.61837069,  0.        ,  1.        ,\n",
       "         0.        ]])"
      ]
     },
     "execution_count": 45,
     "metadata": {},
     "output_type": "execute_result"
    }
   ],
   "source": [
    "some_data_prepared"
   ]
  },
  {
   "cell_type": "markdown",
   "id": "5bd60c3b",
   "metadata": {},
   "source": [
    "### Model Training"
   ]
  },
  {
   "cell_type": "markdown",
   "id": "c434a205",
   "metadata": {},
   "source": [
    "#### 1. Linear Model"
   ]
  },
  {
   "cell_type": "code",
   "execution_count": 46,
   "id": "f6161d07",
   "metadata": {},
   "outputs": [
    {
     "data": {
      "text/plain": [
       "LinearRegression()"
      ]
     },
     "execution_count": 46,
     "metadata": {},
     "output_type": "execute_result"
    }
   ],
   "source": [
    "from sklearn.linear_model import LinearRegression\n",
    "\n",
    "linear = LinearRegression()\n",
    "linear.fit(training_data, training_labels)"
   ]
  },
  {
   "cell_type": "code",
   "execution_count": 47,
   "id": "79693823",
   "metadata": {},
   "outputs": [],
   "source": [
    "from sklearn.metrics import mean_squared_error\n",
    "\n",
    "test_predictions = linear.predict(some_data_prepared)"
   ]
  },
  {
   "cell_type": "code",
   "execution_count": 48,
   "id": "7439eafb",
   "metadata": {},
   "outputs": [
    {
     "data": {
      "text/plain": [
       "1886.56224170052"
      ]
     },
     "execution_count": 48,
     "metadata": {},
     "output_type": "execute_result"
    }
   ],
   "source": [
    "lin_mse = mean_squared_error(some_labels, test_predictions)\n",
    "lin_rmse = np.sqrt(lin_mse)\n",
    "lin_rmse"
   ]
  },
  {
   "cell_type": "code",
   "execution_count": 49,
   "id": "b312e3fc",
   "metadata": {},
   "outputs": [
    {
     "data": {
      "text/plain": [
       "1622.506970810294"
      ]
     },
     "execution_count": 49,
     "metadata": {},
     "output_type": "execute_result"
    }
   ],
   "source": [
    "from sklearn.metrics import mean_absolute_error\n",
    "\n",
    "lin_mae = mean_absolute_error(some_labels, test_predictions)\n",
    "lin_mae"
   ]
  },
  {
   "cell_type": "markdown",
   "id": "9d38c012",
   "metadata": {},
   "source": [
    "### 2. Decision Tree"
   ]
  },
  {
   "cell_type": "code",
   "execution_count": 50,
   "id": "13bf7c7d",
   "metadata": {},
   "outputs": [
    {
     "data": {
      "text/plain": [
       "DecisionTreeRegressor(random_state=5)"
      ]
     },
     "execution_count": 50,
     "metadata": {},
     "output_type": "execute_result"
    }
   ],
   "source": [
    "from sklearn.tree import DecisionTreeRegressor\n",
    "\n",
    "tree = DecisionTreeRegressor(random_state=5)\n",
    "tree.fit(training_data, training_labels)"
   ]
  },
  {
   "cell_type": "code",
   "execution_count": 51,
   "id": "12b5490d",
   "metadata": {},
   "outputs": [
    {
     "data": {
      "text/plain": [
       "0.0"
      ]
     },
     "execution_count": 51,
     "metadata": {},
     "output_type": "execute_result"
    }
   ],
   "source": [
    "tree_predictions = tree.predict(some_data_prepared)\n",
    "tree_mse = mean_squared_error(some_labels, tree_predictions)\n",
    "tree_rmse = np.sqrt(tree_mse)\n",
    "tree_rmse"
   ]
  },
  {
   "cell_type": "markdown",
   "id": "7adbbcbb",
   "metadata": {},
   "source": [
    "### 3. Decision Tree"
   ]
  },
  {
   "cell_type": "code",
   "execution_count": 52,
   "id": "618dc173",
   "metadata": {},
   "outputs": [
    {
     "data": {
      "text/plain": [
       "RandomForestRegressor(random_state=5)"
      ]
     },
     "execution_count": 52,
     "metadata": {},
     "output_type": "execute_result"
    }
   ],
   "source": [
    "from sklearn.ensemble import RandomForestRegressor\n",
    "\n",
    "forest = RandomForestRegressor(n_estimators=100, random_state=5)\n",
    "forest.fit(training_data, training_labels)"
   ]
  },
  {
   "cell_type": "code",
   "execution_count": 53,
   "id": "5eb2fa25",
   "metadata": {},
   "outputs": [
    {
     "data": {
      "text/plain": [
       "376.98770543613216"
      ]
     },
     "execution_count": 53,
     "metadata": {},
     "output_type": "execute_result"
    }
   ],
   "source": [
    "forest_predictions = forest.predict(some_data_prepared)\n",
    "forest_mse = mean_squared_error(some_labels, forest_predictions)\n",
    "forest_rmse = np.sqrt(forest_mse)\n",
    "forest_rmse"
   ]
  },
  {
   "cell_type": "markdown",
   "id": "956d344d",
   "metadata": {},
   "source": [
    "### 4. SVM"
   ]
  },
  {
   "cell_type": "code",
   "execution_count": 54,
   "id": "95679bcd",
   "metadata": {},
   "outputs": [
    {
     "data": {
      "text/plain": [
       "3787.4860126563676"
      ]
     },
     "execution_count": 54,
     "metadata": {},
     "output_type": "execute_result"
    }
   ],
   "source": [
    "from sklearn.svm import SVR\n",
    "\n",
    "svm_reg = SVR(kernel=\"linear\")\n",
    "svm_reg.fit(training_data, training_labels)\n",
    "svm_predictions = svm_reg.predict(some_data_prepared)\n",
    "svm_mse = mean_squared_error(some_labels, svm_predictions)\n",
    "svm_rmse = np.sqrt(svm_mse)\n",
    "svm_rmse"
   ]
  },
  {
   "cell_type": "markdown",
   "id": "7c6b626e",
   "metadata": {},
   "source": [
    "### Cross Validations"
   ]
  },
  {
   "cell_type": "code",
   "execution_count": 55,
   "id": "4609f245",
   "metadata": {},
   "outputs": [],
   "source": [
    "from sklearn.model_selection import cross_val_score"
   ]
  },
  {
   "cell_type": "code",
   "execution_count": 56,
   "id": "772bf093",
   "metadata": {},
   "outputs": [],
   "source": [
    "def display_scores(scores):\n",
    "    print(\"Scores:\", scores)\n",
    "    print(\"Mean:\", scores.mean())\n",
    "    print(\"Standard deviation:\", scores.std())"
   ]
  },
  {
   "cell_type": "code",
   "execution_count": 57,
   "id": "fad71ce2",
   "metadata": {},
   "outputs": [],
   "source": [
    "#Preparing data for cross validations\n",
    "X_cv = full_pipeline.fit_transform(df1)\n",
    "y_cv = df['Price']"
   ]
  },
  {
   "cell_type": "markdown",
   "id": "8f96f15a",
   "metadata": {},
   "source": [
    "### 1. Linear"
   ]
  },
  {
   "cell_type": "code",
   "execution_count": 58,
   "id": "8c864ff9",
   "metadata": {},
   "outputs": [
    {
     "name": "stdout",
     "output_type": "stream",
     "text": [
      "Scores: [4083.7321339  2090.24619027 1517.45587794 1203.38368795 1390.93153147\n",
      "  937.04944358 1294.48902411 1253.22438271  954.39823831 1169.72416324]\n",
      "Mean: 1589.463467347608\n",
      "Standard deviation: 887.1875092794767\n"
     ]
    }
   ],
   "source": [
    "linear_scores = cross_val_score(linear, X_cv, y_cv,scoring=\"neg_mean_squared_error\", cv=10)\n",
    "lin_rmse_scores = np.sqrt(-linear_scores)\n",
    "display_scores(lin_rmse_scores)"
   ]
  },
  {
   "cell_type": "markdown",
   "id": "71933c90",
   "metadata": {},
   "source": [
    "### 2. Decision Trees"
   ]
  },
  {
   "cell_type": "code",
   "execution_count": 59,
   "id": "ae7aa0ae",
   "metadata": {},
   "outputs": [
    {
     "name": "stdout",
     "output_type": "stream",
     "text": [
      "Scores: [3458.0501119  1919.59233049 2101.28300754 1560.1528838  1776.83493184\n",
      " 1154.08220208 1471.7905108  1812.36935869 1178.31529018 1433.11516283]\n",
      "Mean: 1786.5585790152552\n",
      "Standard deviation: 629.0183721419706\n"
     ]
    }
   ],
   "source": [
    "scores = cross_val_score(tree, X_cv, y_cv, scoring=\"neg_mean_squared_error\", cv=10)\n",
    "tree_rmse_scores = np.sqrt(-scores)\n",
    "display_scores(tree_rmse_scores)"
   ]
  },
  {
   "cell_type": "markdown",
   "id": "65e31784",
   "metadata": {},
   "source": [
    "### 3. Random Forest"
   ]
  },
  {
   "cell_type": "code",
   "execution_count": 60,
   "id": "9acbcb83",
   "metadata": {},
   "outputs": [
    {
     "name": "stdout",
     "output_type": "stream",
     "text": [
      "Scores: [3503.62797538 1529.71651744 1400.51630834 1320.65313177 1112.12894113\n",
      "  881.42745605  836.82441915 1319.96474293  894.59561152 1036.09341499]\n",
      "Mean: 1383.55485186969\n",
      "Standard deviation: 742.2189705500522\n"
     ]
    }
   ],
   "source": [
    "forest_scores = cross_val_score(forest, X_cv, y_cv, scoring=\"neg_mean_squared_error\", cv=10)\n",
    "forest_rmse_scores = np.sqrt(-forest_scores)\n",
    "display_scores(forest_rmse_scores)"
   ]
  },
  {
   "cell_type": "markdown",
   "id": "37c20c64",
   "metadata": {},
   "source": [
    "## Fine Tuning Model"
   ]
  },
  {
   "cell_type": "markdown",
   "id": "924962a2",
   "metadata": {},
   "source": [
    "### Grid Search"
   ]
  },
  {
   "cell_type": "markdown",
   "id": "0f83d2fc",
   "metadata": {},
   "source": [
    "As RandomForest has lowest mean error as per our cross validations, we are further using grid search to get the best estimators for random forest."
   ]
  },
  {
   "cell_type": "code",
   "execution_count": 61,
   "id": "cd1b9842",
   "metadata": {},
   "outputs": [
    {
     "data": {
      "text/plain": [
       "GridSearchCV(cv=5, estimator=RandomForestRegressor(random_state=5),\n",
       "             param_grid=[{'max_features': [2, 4, 6, 8, 10],\n",
       "                          'n_estimators': [30, 50, 80]},\n",
       "                         {'bootstrap': [False], 'max_features': [2, 3, 4],\n",
       "                          'n_estimators': [3, 10]}],\n",
       "             return_train_score=True, scoring='neg_mean_squared_error')"
      ]
     },
     "execution_count": 61,
     "metadata": {},
     "output_type": "execute_result"
    }
   ],
   "source": [
    "from sklearn.model_selection import GridSearchCV\n",
    "\n",
    "param_grid = [\n",
    "    {'n_estimators': [30, 50, 80], 'max_features': [2, 4, 6, 8, 10]},\n",
    "    {'bootstrap': [False], 'n_estimators': [3, 10], 'max_features': [2, 3, 4]},\n",
    "  ]\n",
    "\n",
    "forest_grid = RandomForestRegressor(random_state=5)\n",
    "grid_search = GridSearchCV(forest_grid, param_grid, cv=5, scoring='neg_mean_squared_error', return_train_score=True)\n",
    "grid_search.fit(X_cv, y_cv)"
   ]
  },
  {
   "cell_type": "code",
   "execution_count": 62,
   "id": "fcaac64a",
   "metadata": {},
   "outputs": [
    {
     "data": {
      "text/plain": [
       "{'max_features': 10, 'n_estimators': 30}"
      ]
     },
     "execution_count": 62,
     "metadata": {},
     "output_type": "execute_result"
    }
   ],
   "source": [
    "grid_search.best_params_"
   ]
  },
  {
   "cell_type": "code",
   "execution_count": 63,
   "id": "c7f13cff",
   "metadata": {},
   "outputs": [
    {
     "data": {
      "text/plain": [
       "RandomForestRegressor(max_features=10, n_estimators=30, random_state=5)"
      ]
     },
     "execution_count": 63,
     "metadata": {},
     "output_type": "execute_result"
    }
   ],
   "source": [
    "grid_search.best_estimator_"
   ]
  },
  {
   "cell_type": "code",
   "execution_count": 64,
   "id": "ed77a503",
   "metadata": {},
   "outputs": [
    {
     "name": "stdout",
     "output_type": "stream",
     "text": [
      "2780.3100812351545 {'max_features': 2, 'n_estimators': 30}\n",
      "2760.077346637232 {'max_features': 2, 'n_estimators': 50}\n",
      "2772.7640657826446 {'max_features': 2, 'n_estimators': 80}\n",
      "2630.817372610161 {'max_features': 4, 'n_estimators': 30}\n",
      "2602.165172291475 {'max_features': 4, 'n_estimators': 50}\n",
      "2615.7801323832 {'max_features': 4, 'n_estimators': 80}\n",
      "2585.586879853795 {'max_features': 6, 'n_estimators': 30}\n",
      "2564.4477948921394 {'max_features': 6, 'n_estimators': 50}\n",
      "2568.1538072966264 {'max_features': 6, 'n_estimators': 80}\n",
      "2429.0391019592826 {'max_features': 8, 'n_estimators': 30}\n",
      "2412.5258199642417 {'max_features': 8, 'n_estimators': 50}\n",
      "2464.2542373993033 {'max_features': 8, 'n_estimators': 80}\n",
      "2405.4986225731527 {'max_features': 10, 'n_estimators': 30}\n",
      "2409.7273468827866 {'max_features': 10, 'n_estimators': 50}\n",
      "2451.0811252314047 {'max_features': 10, 'n_estimators': 80}\n",
      "3051.4724231896253 {'bootstrap': False, 'max_features': 2, 'n_estimators': 3}\n",
      "2899.0332478227892 {'bootstrap': False, 'max_features': 2, 'n_estimators': 10}\n",
      "3034.571741349191 {'bootstrap': False, 'max_features': 3, 'n_estimators': 3}\n",
      "2862.4092089213123 {'bootstrap': False, 'max_features': 3, 'n_estimators': 10}\n",
      "2491.1215217991316 {'bootstrap': False, 'max_features': 4, 'n_estimators': 3}\n",
      "2621.05029163395 {'bootstrap': False, 'max_features': 4, 'n_estimators': 10}\n"
     ]
    }
   ],
   "source": [
    "cvres = grid_search.cv_results_\n",
    "for mean_score, params in zip(cvres[\"mean_test_score\"], cvres[\"params\"]):\n",
    "    print(np.sqrt(-mean_score), params)"
   ]
  },
  {
   "cell_type": "code",
   "execution_count": 65,
   "id": "a3154b73",
   "metadata": {},
   "outputs": [
    {
     "data": {
      "text/html": [
       "<div>\n",
       "<style scoped>\n",
       "    .dataframe tbody tr th:only-of-type {\n",
       "        vertical-align: middle;\n",
       "    }\n",
       "\n",
       "    .dataframe tbody tr th {\n",
       "        vertical-align: top;\n",
       "    }\n",
       "\n",
       "    .dataframe thead th {\n",
       "        text-align: right;\n",
       "    }\n",
       "</style>\n",
       "<table border=\"1\" class=\"dataframe\">\n",
       "  <thead>\n",
       "    <tr style=\"text-align: right;\">\n",
       "      <th></th>\n",
       "      <th>mean_fit_time</th>\n",
       "      <th>std_fit_time</th>\n",
       "      <th>mean_score_time</th>\n",
       "      <th>std_score_time</th>\n",
       "      <th>param_max_features</th>\n",
       "      <th>param_n_estimators</th>\n",
       "      <th>param_bootstrap</th>\n",
       "      <th>params</th>\n",
       "      <th>split0_test_score</th>\n",
       "      <th>split1_test_score</th>\n",
       "      <th>...</th>\n",
       "      <th>mean_test_score</th>\n",
       "      <th>std_test_score</th>\n",
       "      <th>rank_test_score</th>\n",
       "      <th>split0_train_score</th>\n",
       "      <th>split1_train_score</th>\n",
       "      <th>split2_train_score</th>\n",
       "      <th>split3_train_score</th>\n",
       "      <th>split4_train_score</th>\n",
       "      <th>mean_train_score</th>\n",
       "      <th>std_train_score</th>\n",
       "    </tr>\n",
       "  </thead>\n",
       "  <tbody>\n",
       "    <tr>\n",
       "      <th>0</th>\n",
       "      <td>0.045686</td>\n",
       "      <td>0.001172</td>\n",
       "      <td>0.002801</td>\n",
       "      <td>0.000405</td>\n",
       "      <td>2</td>\n",
       "      <td>30</td>\n",
       "      <td>NaN</td>\n",
       "      <td>{'max_features': 2, 'n_estimators': 30}</td>\n",
       "      <td>-3.265040e+07</td>\n",
       "      <td>-1.678748e+06</td>\n",
       "      <td>...</td>\n",
       "      <td>-7.730124e+06</td>\n",
       "      <td>1.246112e+07</td>\n",
       "      <td>17</td>\n",
       "      <td>-165021.648229</td>\n",
       "      <td>-194721.738053</td>\n",
       "      <td>-212824.127276</td>\n",
       "      <td>-216257.093828</td>\n",
       "      <td>-223739.985391</td>\n",
       "      <td>-202512.918556</td>\n",
       "      <td>21033.827944</td>\n",
       "    </tr>\n",
       "    <tr>\n",
       "      <th>1</th>\n",
       "      <td>0.072407</td>\n",
       "      <td>0.000488</td>\n",
       "      <td>0.004386</td>\n",
       "      <td>0.000488</td>\n",
       "      <td>2</td>\n",
       "      <td>50</td>\n",
       "      <td>NaN</td>\n",
       "      <td>{'max_features': 2, 'n_estimators': 50}</td>\n",
       "      <td>-3.215355e+07</td>\n",
       "      <td>-1.721849e+06</td>\n",
       "      <td>...</td>\n",
       "      <td>-7.618027e+06</td>\n",
       "      <td>1.226916e+07</td>\n",
       "      <td>15</td>\n",
       "      <td>-158721.952566</td>\n",
       "      <td>-187006.857782</td>\n",
       "      <td>-203723.445478</td>\n",
       "      <td>-201938.722203</td>\n",
       "      <td>-206018.211162</td>\n",
       "      <td>-191481.837838</td>\n",
       "      <td>17684.711291</td>\n",
       "    </tr>\n",
       "    <tr>\n",
       "      <th>2</th>\n",
       "      <td>0.120467</td>\n",
       "      <td>0.002026</td>\n",
       "      <td>0.007298</td>\n",
       "      <td>0.000429</td>\n",
       "      <td>2</td>\n",
       "      <td>80</td>\n",
       "      <td>NaN</td>\n",
       "      <td>{'max_features': 2, 'n_estimators': 80}</td>\n",
       "      <td>-3.273737e+07</td>\n",
       "      <td>-1.645456e+06</td>\n",
       "      <td>...</td>\n",
       "      <td>-7.688221e+06</td>\n",
       "      <td>1.252576e+07</td>\n",
       "      <td>16</td>\n",
       "      <td>-154733.578717</td>\n",
       "      <td>-185307.213271</td>\n",
       "      <td>-192021.421459</td>\n",
       "      <td>-201422.558343</td>\n",
       "      <td>-199713.769116</td>\n",
       "      <td>-186639.708181</td>\n",
       "      <td>16959.971734</td>\n",
       "    </tr>\n",
       "    <tr>\n",
       "      <th>3</th>\n",
       "      <td>0.052065</td>\n",
       "      <td>0.001713</td>\n",
       "      <td>0.002582</td>\n",
       "      <td>0.000479</td>\n",
       "      <td>4</td>\n",
       "      <td>30</td>\n",
       "      <td>NaN</td>\n",
       "      <td>{'max_features': 4, 'n_estimators': 30}</td>\n",
       "      <td>-2.951662e+07</td>\n",
       "      <td>-1.588185e+06</td>\n",
       "      <td>...</td>\n",
       "      <td>-6.921200e+06</td>\n",
       "      <td>1.129900e+07</td>\n",
       "      <td>14</td>\n",
       "      <td>-159199.899887</td>\n",
       "      <td>-171269.158841</td>\n",
       "      <td>-194762.725856</td>\n",
       "      <td>-209158.227530</td>\n",
       "      <td>-201210.736777</td>\n",
       "      <td>-187120.149778</td>\n",
       "      <td>18833.081266</td>\n",
       "    </tr>\n",
       "    <tr>\n",
       "      <th>4</th>\n",
       "      <td>0.088694</td>\n",
       "      <td>0.001894</td>\n",
       "      <td>0.004198</td>\n",
       "      <td>0.000394</td>\n",
       "      <td>4</td>\n",
       "      <td>50</td>\n",
       "      <td>NaN</td>\n",
       "      <td>{'max_features': 4, 'n_estimators': 50}</td>\n",
       "      <td>-2.880970e+07</td>\n",
       "      <td>-1.573801e+06</td>\n",
       "      <td>...</td>\n",
       "      <td>-6.771264e+06</td>\n",
       "      <td>1.102057e+07</td>\n",
       "      <td>11</td>\n",
       "      <td>-153820.300601</td>\n",
       "      <td>-166796.437845</td>\n",
       "      <td>-183773.185203</td>\n",
       "      <td>-191758.803080</td>\n",
       "      <td>-184691.646277</td>\n",
       "      <td>-176168.074601</td>\n",
       "      <td>13862.253598</td>\n",
       "    </tr>\n",
       "    <tr>\n",
       "      <th>5</th>\n",
       "      <td>0.170607</td>\n",
       "      <td>0.057186</td>\n",
       "      <td>0.008180</td>\n",
       "      <td>0.002118</td>\n",
       "      <td>4</td>\n",
       "      <td>80</td>\n",
       "      <td>NaN</td>\n",
       "      <td>{'max_features': 4, 'n_estimators': 80}</td>\n",
       "      <td>-2.928273e+07</td>\n",
       "      <td>-1.521527e+06</td>\n",
       "      <td>...</td>\n",
       "      <td>-6.842306e+06</td>\n",
       "      <td>1.122132e+07</td>\n",
       "      <td>12</td>\n",
       "      <td>-149699.657423</td>\n",
       "      <td>-164098.908003</td>\n",
       "      <td>-175991.772606</td>\n",
       "      <td>-185373.733123</td>\n",
       "      <td>-176393.240903</td>\n",
       "      <td>-170311.462412</td>\n",
       "      <td>12325.325875</td>\n",
       "    </tr>\n",
       "    <tr>\n",
       "      <th>6</th>\n",
       "      <td>0.060066</td>\n",
       "      <td>0.000928</td>\n",
       "      <td>0.002994</td>\n",
       "      <td>0.000003</td>\n",
       "      <td>6</td>\n",
       "      <td>30</td>\n",
       "      <td>NaN</td>\n",
       "      <td>{'max_features': 6, 'n_estimators': 30}</td>\n",
       "      <td>-2.842503e+07</td>\n",
       "      <td>-1.589383e+06</td>\n",
       "      <td>...</td>\n",
       "      <td>-6.685260e+06</td>\n",
       "      <td>1.087143e+07</td>\n",
       "      <td>10</td>\n",
       "      <td>-158956.627667</td>\n",
       "      <td>-166060.192042</td>\n",
       "      <td>-189426.816549</td>\n",
       "      <td>-187592.700189</td>\n",
       "      <td>-187377.643699</td>\n",
       "      <td>-177882.796029</td>\n",
       "      <td>12772.412417</td>\n",
       "    </tr>\n",
       "    <tr>\n",
       "      <th>7</th>\n",
       "      <td>0.103947</td>\n",
       "      <td>0.002318</td>\n",
       "      <td>0.004182</td>\n",
       "      <td>0.000385</td>\n",
       "      <td>6</td>\n",
       "      <td>50</td>\n",
       "      <td>NaN</td>\n",
       "      <td>{'max_features': 6, 'n_estimators': 50}</td>\n",
       "      <td>-2.798843e+07</td>\n",
       "      <td>-1.547539e+06</td>\n",
       "      <td>...</td>\n",
       "      <td>-6.576392e+06</td>\n",
       "      <td>1.070744e+07</td>\n",
       "      <td>8</td>\n",
       "      <td>-153755.857015</td>\n",
       "      <td>-163372.107738</td>\n",
       "      <td>-180720.585517</td>\n",
       "      <td>-177109.275060</td>\n",
       "      <td>-177015.453389</td>\n",
       "      <td>-170394.655744</td>\n",
       "      <td>10214.809869</td>\n",
       "    </tr>\n",
       "    <tr>\n",
       "      <th>8</th>\n",
       "      <td>0.162565</td>\n",
       "      <td>0.002003</td>\n",
       "      <td>0.006383</td>\n",
       "      <td>0.000488</td>\n",
       "      <td>6</td>\n",
       "      <td>80</td>\n",
       "      <td>NaN</td>\n",
       "      <td>{'max_features': 6, 'n_estimators': 80}</td>\n",
       "      <td>-2.816730e+07</td>\n",
       "      <td>-1.568534e+06</td>\n",
       "      <td>...</td>\n",
       "      <td>-6.595414e+06</td>\n",
       "      <td>1.078766e+07</td>\n",
       "      <td>9</td>\n",
       "      <td>-149388.233864</td>\n",
       "      <td>-160345.555627</td>\n",
       "      <td>-176076.352238</td>\n",
       "      <td>-174490.141125</td>\n",
       "      <td>-173327.443489</td>\n",
       "      <td>-166725.545269</td>\n",
       "      <td>10320.835572</td>\n",
       "    </tr>\n",
       "    <tr>\n",
       "      <th>9</th>\n",
       "      <td>0.069433</td>\n",
       "      <td>0.001402</td>\n",
       "      <td>0.002416</td>\n",
       "      <td>0.000471</td>\n",
       "      <td>8</td>\n",
       "      <td>30</td>\n",
       "      <td>NaN</td>\n",
       "      <td>{'max_features': 8, 'n_estimators': 30}</td>\n",
       "      <td>-2.446341e+07</td>\n",
       "      <td>-1.758978e+06</td>\n",
       "      <td>...</td>\n",
       "      <td>-5.900231e+06</td>\n",
       "      <td>9.285379e+06</td>\n",
       "      <td>4</td>\n",
       "      <td>-156613.494216</td>\n",
       "      <td>-166545.753976</td>\n",
       "      <td>-188620.346524</td>\n",
       "      <td>-187672.063560</td>\n",
       "      <td>-188382.533559</td>\n",
       "      <td>-177566.838367</td>\n",
       "      <td>13429.682152</td>\n",
       "    </tr>\n",
       "    <tr>\n",
       "      <th>10</th>\n",
       "      <td>0.116433</td>\n",
       "      <td>0.002173</td>\n",
       "      <td>0.004604</td>\n",
       "      <td>0.000488</td>\n",
       "      <td>8</td>\n",
       "      <td>50</td>\n",
       "      <td>NaN</td>\n",
       "      <td>{'max_features': 8, 'n_estimators': 50}</td>\n",
       "      <td>-2.422677e+07</td>\n",
       "      <td>-1.680867e+06</td>\n",
       "      <td>...</td>\n",
       "      <td>-5.820281e+06</td>\n",
       "      <td>9.206545e+06</td>\n",
       "      <td>3</td>\n",
       "      <td>-149881.698334</td>\n",
       "      <td>-165980.209282</td>\n",
       "      <td>-183490.305932</td>\n",
       "      <td>-182623.427907</td>\n",
       "      <td>-180261.399026</td>\n",
       "      <td>-172447.408096</td>\n",
       "      <td>12942.884869</td>\n",
       "    </tr>\n",
       "    <tr>\n",
       "      <th>11</th>\n",
       "      <td>0.181210</td>\n",
       "      <td>0.003939</td>\n",
       "      <td>0.006376</td>\n",
       "      <td>0.000462</td>\n",
       "      <td>8</td>\n",
       "      <td>80</td>\n",
       "      <td>NaN</td>\n",
       "      <td>{'max_features': 8, 'n_estimators': 80}</td>\n",
       "      <td>-2.546532e+07</td>\n",
       "      <td>-1.674891e+06</td>\n",
       "      <td>...</td>\n",
       "      <td>-6.072549e+06</td>\n",
       "      <td>9.699270e+06</td>\n",
       "      <td>6</td>\n",
       "      <td>-146649.513447</td>\n",
       "      <td>-161970.144952</td>\n",
       "      <td>-178841.775828</td>\n",
       "      <td>-180899.911294</td>\n",
       "      <td>-176024.600369</td>\n",
       "      <td>-168877.189178</td>\n",
       "      <td>12936.005174</td>\n",
       "    </tr>\n",
       "    <tr>\n",
       "      <th>12</th>\n",
       "      <td>0.076200</td>\n",
       "      <td>0.004576</td>\n",
       "      <td>0.003001</td>\n",
       "      <td>0.000642</td>\n",
       "      <td>10</td>\n",
       "      <td>30</td>\n",
       "      <td>NaN</td>\n",
       "      <td>{'max_features': 10, 'n_estimators': 30}</td>\n",
       "      <td>-2.376896e+07</td>\n",
       "      <td>-1.888593e+06</td>\n",
       "      <td>...</td>\n",
       "      <td>-5.786424e+06</td>\n",
       "      <td>8.997075e+06</td>\n",
       "      <td>1</td>\n",
       "      <td>-157782.054352</td>\n",
       "      <td>-170030.994294</td>\n",
       "      <td>-187034.624617</td>\n",
       "      <td>-186602.471139</td>\n",
       "      <td>-189452.882191</td>\n",
       "      <td>-178180.605319</td>\n",
       "      <td>12319.924910</td>\n",
       "    </tr>\n",
       "    <tr>\n",
       "      <th>13</th>\n",
       "      <td>0.125028</td>\n",
       "      <td>0.003053</td>\n",
       "      <td>0.004125</td>\n",
       "      <td>0.000252</td>\n",
       "      <td>10</td>\n",
       "      <td>50</td>\n",
       "      <td>NaN</td>\n",
       "      <td>{'max_features': 10, 'n_estimators': 50}</td>\n",
       "      <td>-2.396965e+07</td>\n",
       "      <td>-1.853324e+06</td>\n",
       "      <td>...</td>\n",
       "      <td>-5.806786e+06</td>\n",
       "      <td>9.086628e+06</td>\n",
       "      <td>2</td>\n",
       "      <td>-153627.259652</td>\n",
       "      <td>-168692.004118</td>\n",
       "      <td>-183402.538284</td>\n",
       "      <td>-177635.474273</td>\n",
       "      <td>-179986.470056</td>\n",
       "      <td>-172668.749276</td>\n",
       "      <td>10694.152142</td>\n",
       "    </tr>\n",
       "    <tr>\n",
       "      <th>14</th>\n",
       "      <td>0.208007</td>\n",
       "      <td>0.010410</td>\n",
       "      <td>0.006196</td>\n",
       "      <td>0.000757</td>\n",
       "      <td>10</td>\n",
       "      <td>80</td>\n",
       "      <td>NaN</td>\n",
       "      <td>{'max_features': 10, 'n_estimators': 80}</td>\n",
       "      <td>-2.502867e+07</td>\n",
       "      <td>-1.840704e+06</td>\n",
       "      <td>...</td>\n",
       "      <td>-6.007799e+06</td>\n",
       "      <td>9.515455e+06</td>\n",
       "      <td>5</td>\n",
       "      <td>-150255.204136</td>\n",
       "      <td>-165658.600105</td>\n",
       "      <td>-179362.950761</td>\n",
       "      <td>-178678.516050</td>\n",
       "      <td>-179055.882172</td>\n",
       "      <td>-170602.230645</td>\n",
       "      <td>11418.246781</td>\n",
       "    </tr>\n",
       "    <tr>\n",
       "      <th>15</th>\n",
       "      <td>0.005783</td>\n",
       "      <td>0.000401</td>\n",
       "      <td>0.000391</td>\n",
       "      <td>0.000479</td>\n",
       "      <td>2</td>\n",
       "      <td>3</td>\n",
       "      <td>False</td>\n",
       "      <td>{'bootstrap': False, 'max_features': 2, 'n_est...</td>\n",
       "      <td>-3.802812e+07</td>\n",
       "      <td>-2.835729e+06</td>\n",
       "      <td>...</td>\n",
       "      <td>-9.311484e+06</td>\n",
       "      <td>1.436301e+07</td>\n",
       "      <td>21</td>\n",
       "      <td>-17.421603</td>\n",
       "      <td>-65.757664</td>\n",
       "      <td>-210.811334</td>\n",
       "      <td>-337.008026</td>\n",
       "      <td>-38.197466</td>\n",
       "      <td>-133.839219</td>\n",
       "      <td>122.096499</td>\n",
       "    </tr>\n",
       "    <tr>\n",
       "      <th>16</th>\n",
       "      <td>0.019349</td>\n",
       "      <td>0.002793</td>\n",
       "      <td>0.001595</td>\n",
       "      <td>0.000798</td>\n",
       "      <td>2</td>\n",
       "      <td>10</td>\n",
       "      <td>False</td>\n",
       "      <td>{'bootstrap': False, 'max_features': 2, 'n_est...</td>\n",
       "      <td>-3.516533e+07</td>\n",
       "      <td>-1.943661e+06</td>\n",
       "      <td>...</td>\n",
       "      <td>-8.404394e+06</td>\n",
       "      <td>1.338125e+07</td>\n",
       "      <td>19</td>\n",
       "      <td>-22.430314</td>\n",
       "      <td>-123.574848</td>\n",
       "      <td>-132.158399</td>\n",
       "      <td>-178.981723</td>\n",
       "      <td>-7.789382</td>\n",
       "      <td>-92.986933</td>\n",
       "      <td>66.486070</td>\n",
       "    </tr>\n",
       "    <tr>\n",
       "      <th>17</th>\n",
       "      <td>0.006183</td>\n",
       "      <td>0.000399</td>\n",
       "      <td>0.000798</td>\n",
       "      <td>0.000399</td>\n",
       "      <td>3</td>\n",
       "      <td>3</td>\n",
       "      <td>False</td>\n",
       "      <td>{'bootstrap': False, 'max_features': 3, 'n_est...</td>\n",
       "      <td>-3.792206e+07</td>\n",
       "      <td>-2.403802e+06</td>\n",
       "      <td>...</td>\n",
       "      <td>-9.208626e+06</td>\n",
       "      <td>1.435980e+07</td>\n",
       "      <td>20</td>\n",
       "      <td>-210.994967</td>\n",
       "      <td>-182.284112</td>\n",
       "      <td>-29.494246</td>\n",
       "      <td>-65.757664</td>\n",
       "      <td>-48.351223</td>\n",
       "      <td>-107.376442</td>\n",
       "      <td>74.336658</td>\n",
       "    </tr>\n",
       "    <tr>\n",
       "      <th>18</th>\n",
       "      <td>0.018550</td>\n",
       "      <td>0.000488</td>\n",
       "      <td>0.001596</td>\n",
       "      <td>0.000488</td>\n",
       "      <td>3</td>\n",
       "      <td>10</td>\n",
       "      <td>False</td>\n",
       "      <td>{'bootstrap': False, 'max_features': 3, 'n_est...</td>\n",
       "      <td>-3.389771e+07</td>\n",
       "      <td>-1.920722e+06</td>\n",
       "      <td>...</td>\n",
       "      <td>-8.193386e+06</td>\n",
       "      <td>1.285380e+07</td>\n",
       "      <td>18</td>\n",
       "      <td>-94.457753</td>\n",
       "      <td>-131.157528</td>\n",
       "      <td>-40.252393</td>\n",
       "      <td>-47.389034</td>\n",
       "      <td>-75.065274</td>\n",
       "      <td>-77.664396</td>\n",
       "      <td>33.065217</td>\n",
       "    </tr>\n",
       "    <tr>\n",
       "      <th>19</th>\n",
       "      <td>0.006782</td>\n",
       "      <td>0.000399</td>\n",
       "      <td>0.001001</td>\n",
       "      <td>0.000007</td>\n",
       "      <td>4</td>\n",
       "      <td>3</td>\n",
       "      <td>False</td>\n",
       "      <td>{'bootstrap': False, 'max_features': 4, 'n_est...</td>\n",
       "      <td>-2.374833e+07</td>\n",
       "      <td>-2.590722e+06</td>\n",
       "      <td>...</td>\n",
       "      <td>-6.205686e+06</td>\n",
       "      <td>8.781056e+06</td>\n",
       "      <td>7</td>\n",
       "      <td>-17.421603</td>\n",
       "      <td>-160.405183</td>\n",
       "      <td>-17.406440</td>\n",
       "      <td>-17.406440</td>\n",
       "      <td>-0.000000</td>\n",
       "      <td>-42.527933</td>\n",
       "      <td>59.323145</td>\n",
       "    </tr>\n",
       "    <tr>\n",
       "      <th>20</th>\n",
       "      <td>0.020545</td>\n",
       "      <td>0.000489</td>\n",
       "      <td>0.001397</td>\n",
       "      <td>0.000488</td>\n",
       "      <td>4</td>\n",
       "      <td>10</td>\n",
       "      <td>False</td>\n",
       "      <td>{'bootstrap': False, 'max_features': 4, 'n_est...</td>\n",
       "      <td>-2.868538e+07</td>\n",
       "      <td>-1.985512e+06</td>\n",
       "      <td>...</td>\n",
       "      <td>-6.869905e+06</td>\n",
       "      <td>1.091213e+07</td>\n",
       "      <td>13</td>\n",
       "      <td>-56.228223</td>\n",
       "      <td>-122.356397</td>\n",
       "      <td>-31.364230</td>\n",
       "      <td>-67.526110</td>\n",
       "      <td>-4.351610</td>\n",
       "      <td>-56.365314</td>\n",
       "      <td>39.521854</td>\n",
       "    </tr>\n",
       "  </tbody>\n",
       "</table>\n",
       "<p>21 rows × 23 columns</p>\n",
       "</div>"
      ],
      "text/plain": [
       "    mean_fit_time  std_fit_time  mean_score_time  std_score_time  \\\n",
       "0        0.045686      0.001172         0.002801        0.000405   \n",
       "1        0.072407      0.000488         0.004386        0.000488   \n",
       "2        0.120467      0.002026         0.007298        0.000429   \n",
       "3        0.052065      0.001713         0.002582        0.000479   \n",
       "4        0.088694      0.001894         0.004198        0.000394   \n",
       "5        0.170607      0.057186         0.008180        0.002118   \n",
       "6        0.060066      0.000928         0.002994        0.000003   \n",
       "7        0.103947      0.002318         0.004182        0.000385   \n",
       "8        0.162565      0.002003         0.006383        0.000488   \n",
       "9        0.069433      0.001402         0.002416        0.000471   \n",
       "10       0.116433      0.002173         0.004604        0.000488   \n",
       "11       0.181210      0.003939         0.006376        0.000462   \n",
       "12       0.076200      0.004576         0.003001        0.000642   \n",
       "13       0.125028      0.003053         0.004125        0.000252   \n",
       "14       0.208007      0.010410         0.006196        0.000757   \n",
       "15       0.005783      0.000401         0.000391        0.000479   \n",
       "16       0.019349      0.002793         0.001595        0.000798   \n",
       "17       0.006183      0.000399         0.000798        0.000399   \n",
       "18       0.018550      0.000488         0.001596        0.000488   \n",
       "19       0.006782      0.000399         0.001001        0.000007   \n",
       "20       0.020545      0.000489         0.001397        0.000488   \n",
       "\n",
       "   param_max_features param_n_estimators param_bootstrap  \\\n",
       "0                   2                 30             NaN   \n",
       "1                   2                 50             NaN   \n",
       "2                   2                 80             NaN   \n",
       "3                   4                 30             NaN   \n",
       "4                   4                 50             NaN   \n",
       "5                   4                 80             NaN   \n",
       "6                   6                 30             NaN   \n",
       "7                   6                 50             NaN   \n",
       "8                   6                 80             NaN   \n",
       "9                   8                 30             NaN   \n",
       "10                  8                 50             NaN   \n",
       "11                  8                 80             NaN   \n",
       "12                 10                 30             NaN   \n",
       "13                 10                 50             NaN   \n",
       "14                 10                 80             NaN   \n",
       "15                  2                  3           False   \n",
       "16                  2                 10           False   \n",
       "17                  3                  3           False   \n",
       "18                  3                 10           False   \n",
       "19                  4                  3           False   \n",
       "20                  4                 10           False   \n",
       "\n",
       "                                               params  split0_test_score  \\\n",
       "0             {'max_features': 2, 'n_estimators': 30}      -3.265040e+07   \n",
       "1             {'max_features': 2, 'n_estimators': 50}      -3.215355e+07   \n",
       "2             {'max_features': 2, 'n_estimators': 80}      -3.273737e+07   \n",
       "3             {'max_features': 4, 'n_estimators': 30}      -2.951662e+07   \n",
       "4             {'max_features': 4, 'n_estimators': 50}      -2.880970e+07   \n",
       "5             {'max_features': 4, 'n_estimators': 80}      -2.928273e+07   \n",
       "6             {'max_features': 6, 'n_estimators': 30}      -2.842503e+07   \n",
       "7             {'max_features': 6, 'n_estimators': 50}      -2.798843e+07   \n",
       "8             {'max_features': 6, 'n_estimators': 80}      -2.816730e+07   \n",
       "9             {'max_features': 8, 'n_estimators': 30}      -2.446341e+07   \n",
       "10            {'max_features': 8, 'n_estimators': 50}      -2.422677e+07   \n",
       "11            {'max_features': 8, 'n_estimators': 80}      -2.546532e+07   \n",
       "12           {'max_features': 10, 'n_estimators': 30}      -2.376896e+07   \n",
       "13           {'max_features': 10, 'n_estimators': 50}      -2.396965e+07   \n",
       "14           {'max_features': 10, 'n_estimators': 80}      -2.502867e+07   \n",
       "15  {'bootstrap': False, 'max_features': 2, 'n_est...      -3.802812e+07   \n",
       "16  {'bootstrap': False, 'max_features': 2, 'n_est...      -3.516533e+07   \n",
       "17  {'bootstrap': False, 'max_features': 3, 'n_est...      -3.792206e+07   \n",
       "18  {'bootstrap': False, 'max_features': 3, 'n_est...      -3.389771e+07   \n",
       "19  {'bootstrap': False, 'max_features': 4, 'n_est...      -2.374833e+07   \n",
       "20  {'bootstrap': False, 'max_features': 4, 'n_est...      -2.868538e+07   \n",
       "\n",
       "    split1_test_score  ...  mean_test_score  std_test_score  rank_test_score  \\\n",
       "0       -1.678748e+06  ...    -7.730124e+06    1.246112e+07               17   \n",
       "1       -1.721849e+06  ...    -7.618027e+06    1.226916e+07               15   \n",
       "2       -1.645456e+06  ...    -7.688221e+06    1.252576e+07               16   \n",
       "3       -1.588185e+06  ...    -6.921200e+06    1.129900e+07               14   \n",
       "4       -1.573801e+06  ...    -6.771264e+06    1.102057e+07               11   \n",
       "5       -1.521527e+06  ...    -6.842306e+06    1.122132e+07               12   \n",
       "6       -1.589383e+06  ...    -6.685260e+06    1.087143e+07               10   \n",
       "7       -1.547539e+06  ...    -6.576392e+06    1.070744e+07                8   \n",
       "8       -1.568534e+06  ...    -6.595414e+06    1.078766e+07                9   \n",
       "9       -1.758978e+06  ...    -5.900231e+06    9.285379e+06                4   \n",
       "10      -1.680867e+06  ...    -5.820281e+06    9.206545e+06                3   \n",
       "11      -1.674891e+06  ...    -6.072549e+06    9.699270e+06                6   \n",
       "12      -1.888593e+06  ...    -5.786424e+06    8.997075e+06                1   \n",
       "13      -1.853324e+06  ...    -5.806786e+06    9.086628e+06                2   \n",
       "14      -1.840704e+06  ...    -6.007799e+06    9.515455e+06                5   \n",
       "15      -2.835729e+06  ...    -9.311484e+06    1.436301e+07               21   \n",
       "16      -1.943661e+06  ...    -8.404394e+06    1.338125e+07               19   \n",
       "17      -2.403802e+06  ...    -9.208626e+06    1.435980e+07               20   \n",
       "18      -1.920722e+06  ...    -8.193386e+06    1.285380e+07               18   \n",
       "19      -2.590722e+06  ...    -6.205686e+06    8.781056e+06                7   \n",
       "20      -1.985512e+06  ...    -6.869905e+06    1.091213e+07               13   \n",
       "\n",
       "    split0_train_score  split1_train_score  split2_train_score  \\\n",
       "0       -165021.648229      -194721.738053      -212824.127276   \n",
       "1       -158721.952566      -187006.857782      -203723.445478   \n",
       "2       -154733.578717      -185307.213271      -192021.421459   \n",
       "3       -159199.899887      -171269.158841      -194762.725856   \n",
       "4       -153820.300601      -166796.437845      -183773.185203   \n",
       "5       -149699.657423      -164098.908003      -175991.772606   \n",
       "6       -158956.627667      -166060.192042      -189426.816549   \n",
       "7       -153755.857015      -163372.107738      -180720.585517   \n",
       "8       -149388.233864      -160345.555627      -176076.352238   \n",
       "9       -156613.494216      -166545.753976      -188620.346524   \n",
       "10      -149881.698334      -165980.209282      -183490.305932   \n",
       "11      -146649.513447      -161970.144952      -178841.775828   \n",
       "12      -157782.054352      -170030.994294      -187034.624617   \n",
       "13      -153627.259652      -168692.004118      -183402.538284   \n",
       "14      -150255.204136      -165658.600105      -179362.950761   \n",
       "15          -17.421603          -65.757664         -210.811334   \n",
       "16          -22.430314         -123.574848         -132.158399   \n",
       "17         -210.994967         -182.284112          -29.494246   \n",
       "18          -94.457753         -131.157528          -40.252393   \n",
       "19          -17.421603         -160.405183          -17.406440   \n",
       "20          -56.228223         -122.356397          -31.364230   \n",
       "\n",
       "    split3_train_score  split4_train_score  mean_train_score  std_train_score  \n",
       "0       -216257.093828      -223739.985391    -202512.918556     21033.827944  \n",
       "1       -201938.722203      -206018.211162    -191481.837838     17684.711291  \n",
       "2       -201422.558343      -199713.769116    -186639.708181     16959.971734  \n",
       "3       -209158.227530      -201210.736777    -187120.149778     18833.081266  \n",
       "4       -191758.803080      -184691.646277    -176168.074601     13862.253598  \n",
       "5       -185373.733123      -176393.240903    -170311.462412     12325.325875  \n",
       "6       -187592.700189      -187377.643699    -177882.796029     12772.412417  \n",
       "7       -177109.275060      -177015.453389    -170394.655744     10214.809869  \n",
       "8       -174490.141125      -173327.443489    -166725.545269     10320.835572  \n",
       "9       -187672.063560      -188382.533559    -177566.838367     13429.682152  \n",
       "10      -182623.427907      -180261.399026    -172447.408096     12942.884869  \n",
       "11      -180899.911294      -176024.600369    -168877.189178     12936.005174  \n",
       "12      -186602.471139      -189452.882191    -178180.605319     12319.924910  \n",
       "13      -177635.474273      -179986.470056    -172668.749276     10694.152142  \n",
       "14      -178678.516050      -179055.882172    -170602.230645     11418.246781  \n",
       "15         -337.008026          -38.197466       -133.839219       122.096499  \n",
       "16         -178.981723           -7.789382        -92.986933        66.486070  \n",
       "17          -65.757664          -48.351223       -107.376442        74.336658  \n",
       "18          -47.389034          -75.065274        -77.664396        33.065217  \n",
       "19          -17.406440           -0.000000        -42.527933        59.323145  \n",
       "20          -67.526110           -4.351610        -56.365314        39.521854  \n",
       "\n",
       "[21 rows x 23 columns]"
      ]
     },
     "execution_count": 65,
     "metadata": {},
     "output_type": "execute_result"
    }
   ],
   "source": [
    "pd.DataFrame(grid_search.cv_results_)"
   ]
  },
  {
   "cell_type": "markdown",
   "id": "1f7ff600",
   "metadata": {},
   "source": [
    "### Randomized Search"
   ]
  },
  {
   "cell_type": "code",
   "execution_count": 66,
   "id": "8475a47d",
   "metadata": {},
   "outputs": [
    {
     "data": {
      "text/plain": [
       "RandomizedSearchCV(cv=5, estimator=RandomForestRegressor(random_state=5),\n",
       "                   param_distributions={'max_features': <scipy.stats._distn_infrastructure.rv_frozen object at 0x000001C64709AF10>,\n",
       "                                        'n_estimators': <scipy.stats._distn_infrastructure.rv_frozen object at 0x000001C6470B1670>},\n",
       "                   random_state=5, scoring='neg_mean_squared_error')"
      ]
     },
     "execution_count": 66,
     "metadata": {},
     "output_type": "execute_result"
    }
   ],
   "source": [
    "from sklearn.model_selection import RandomizedSearchCV\n",
    "from scipy.stats import randint\n",
    "\n",
    "param_distribs = {\n",
    "        'n_estimators': randint(low=1, high=500),\n",
    "        'max_features': randint(low=1, high=10),\n",
    "    }\n",
    "\n",
    "forest = RandomForestRegressor(random_state=5)\n",
    "random_search = RandomizedSearchCV(forest, param_distributions=param_distribs, n_iter=10, cv=5, scoring='neg_mean_squared_error', random_state=5)\n",
    "random_search.fit(X_cv, y_cv)"
   ]
  },
  {
   "cell_type": "code",
   "execution_count": 67,
   "id": "5aa3c47e",
   "metadata": {},
   "outputs": [
    {
     "name": "stdout",
     "output_type": "stream",
     "text": [
      "2591.5671528629714 {'max_features': 4, 'n_estimators': 207}\n",
      "2513.1102360722452 {'max_features': 7, 'n_estimators': 119}\n",
      "2868.9700455219645 {'max_features': 1, 'n_estimators': 74}\n",
      "2452.327534039655 {'max_features': 9, 'n_estimators': 229}\n",
      "2481.6699896601826 {'max_features': 8, 'n_estimators': 447}\n",
      "2853.569785048256 {'max_features': 1, 'n_estimators': 159}\n",
      "2936.6193436027415 {'max_features': 1, 'n_estimators': 8}\n",
      "2758.6139813674185 {'max_features': 2, 'n_estimators': 438}\n",
      "2467.223529917789 {'max_features': 8, 'n_estimators': 81}\n",
      "2756.0754080448323 {'max_features': 2, 'n_estimators': 432}\n"
     ]
    }
   ],
   "source": [
    "cvres = random_search.cv_results_\n",
    "for mean_score, params in zip(cvres[\"mean_test_score\"], cvres[\"params\"]):\n",
    "    print(np.sqrt(-mean_score), params)"
   ]
  },
  {
   "cell_type": "code",
   "execution_count": 68,
   "id": "00bfa96e",
   "metadata": {},
   "outputs": [
    {
     "data": {
      "text/plain": [
       "array([7.97059726e-01, 9.73295373e-02, 1.74907996e-02, 4.53614968e-03,\n",
       "       8.70155935e-04, 4.94653336e-03, 4.15630884e-03, 7.05743578e-02,\n",
       "       4.44733117e-04, 1.72744723e-03, 8.64250966e-04])"
      ]
     },
     "execution_count": 68,
     "metadata": {},
     "output_type": "execute_result"
    }
   ],
   "source": [
    "feature_importances = grid_search.best_estimator_.feature_importances_\n",
    "feature_importances"
   ]
  },
  {
   "cell_type": "markdown",
   "id": "6258cbeb",
   "metadata": {},
   "source": [
    "#### Evaluating on test model"
   ]
  },
  {
   "cell_type": "code",
   "execution_count": 69,
   "id": "4ded43b8",
   "metadata": {},
   "outputs": [
    {
     "data": {
      "text/plain": [
       "RandomForestRegressor(max_features=10, n_estimators=30, random_state=5)"
      ]
     },
     "execution_count": 69,
     "metadata": {},
     "output_type": "execute_result"
    }
   ],
   "source": [
    "final_model = grid_search.best_estimator_\n",
    "\n",
    "final_model"
   ]
  },
  {
   "cell_type": "code",
   "execution_count": 70,
   "id": "c8e57f51",
   "metadata": {},
   "outputs": [],
   "source": [
    "final_predictions = final_model.predict(some_data_prepared)\n",
    "\n",
    "final_mse = mean_squared_error(some_labels, final_predictions)\n",
    "final_rmse = np.sqrt(final_mse)"
   ]
  },
  {
   "cell_type": "code",
   "execution_count": 71,
   "id": "0b46d707",
   "metadata": {},
   "outputs": [
    {
     "data": {
      "text/plain": [
       "527.3320797498794"
      ]
     },
     "execution_count": 71,
     "metadata": {},
     "output_type": "execute_result"
    }
   ],
   "source": [
    "final_rmse"
   ]
  },
  {
   "cell_type": "markdown",
   "id": "995acafc",
   "metadata": {},
   "source": [
    "#### T:Score: Calculating confidence interval for rmse at 95% confidence interval (library based)"
   ]
  },
  {
   "cell_type": "code",
   "execution_count": 72,
   "id": "e2c6b33a",
   "metadata": {},
   "outputs": [
    {
     "data": {
      "text/plain": [
       "array([278.54299002, 691.78901941])"
      ]
     },
     "execution_count": 72,
     "metadata": {},
     "output_type": "execute_result"
    }
   ],
   "source": [
    "from scipy import stats\n",
    "\n",
    "confidence = 0.95\n",
    "squared_errors = (final_predictions - some_labels) ** 2\n",
    "np.sqrt(stats.t.interval(confidence, len(squared_errors) - 1, loc=squared_errors.mean(), scale=stats.sem(squared_errors)))"
   ]
  },
  {
   "cell_type": "markdown",
   "id": "4e908421",
   "metadata": {},
   "source": [
    "#### T-Score: Calculating confidence interval for rmse at 95% confidence interval (calculation based)"
   ]
  },
  {
   "cell_type": "code",
   "execution_count": 73,
   "id": "dee7dafe",
   "metadata": {},
   "outputs": [
    {
     "data": {
      "text/plain": [
       "(278.5429900242098, 691.7890194091256)"
      ]
     },
     "execution_count": 73,
     "metadata": {},
     "output_type": "execute_result"
    }
   ],
   "source": [
    "m = len(squared_errors)\n",
    "mean = squared_errors.mean()\n",
    "tscore = stats.t.ppf((1 + confidence) / 2, df=m - 1)\n",
    "tmargin = tscore * squared_errors.std(ddof=1) / np.sqrt(m)\n",
    "np.sqrt(mean - tmargin), np.sqrt(mean + tmargin)"
   ]
  },
  {
   "cell_type": "markdown",
   "id": "01d2cc88",
   "metadata": {},
   "source": [
    "#### Z-scores: Calculating confidence interval for rmse at 95% confidence interval"
   ]
  },
  {
   "cell_type": "code",
   "execution_count": 74,
   "id": "1ce4241d",
   "metadata": {},
   "outputs": [
    {
     "data": {
      "text/plain": [
       "(323.062382388397, 672.1524691260158)"
      ]
     },
     "execution_count": 74,
     "metadata": {},
     "output_type": "execute_result"
    }
   ],
   "source": [
    "zscore = stats.norm.ppf((1 + confidence) / 2)\n",
    "zmargin = zscore * squared_errors.std(ddof=1) / np.sqrt(m)\n",
    "np.sqrt(mean - zmargin), np.sqrt(mean + zmargin)"
   ]
  },
  {
   "cell_type": "markdown",
   "id": "9e5cecb7",
   "metadata": {},
   "source": [
    "### Extra"
   ]
  },
  {
   "cell_type": "code",
   "execution_count": 75,
   "id": "1fae8343",
   "metadata": {},
   "outputs": [],
   "source": [
    "full_pipeline_with_predictor = Pipeline([\n",
    "        (\"preparation\", full_pipeline),\n",
    "        (\"linear\", LinearRegression())\n",
    "    ])"
   ]
  },
  {
   "cell_type": "code",
   "execution_count": 76,
   "id": "9b73dec4",
   "metadata": {},
   "outputs": [
    {
     "data": {
      "text/plain": [
       "Pipeline(steps=[('preparation',\n",
       "                 ColumnTransformer(transformers=[('num',\n",
       "                                                  Pipeline(steps=[('std_scaler',\n",
       "                                                                   StandardScaler())]),\n",
       "                                                  ['Age', 'KM', 'HP',\n",
       "                                                   'MetColor', 'Automatic',\n",
       "                                                   'CC', 'Doors', 'Weight']),\n",
       "                                                 ('cat', OneHotEncoder(),\n",
       "                                                  ['FuelType'])])),\n",
       "                ('linear', LinearRegression())])"
      ]
     },
     "execution_count": 76,
     "metadata": {},
     "output_type": "execute_result"
    }
   ],
   "source": [
    "full_pipeline_with_predictor.fit(df1.drop(axis=1, columns=['Price']), df1['Price'])"
   ]
  },
  {
   "cell_type": "code",
   "execution_count": 77,
   "id": "54771704",
   "metadata": {},
   "outputs": [
    {
     "data": {
      "text/plain": [
       "array([16490.00034792, 16069.37824857, 16453.48474713, 16050.36188128,\n",
       "       15816.3297551 , 15207.61359404, 16830.75350947, 16768.17841702,\n",
       "       21555.65890973, 13981.17415081])"
      ]
     },
     "execution_count": 77,
     "metadata": {},
     "output_type": "execute_result"
    }
   ],
   "source": [
    "full_pipeline_with_predictor.predict(some_data.drop(axis=1, columns=['Price']))"
   ]
  },
  {
   "cell_type": "markdown",
   "id": "b1f1b639",
   "metadata": {},
   "source": [
    "#### RandomizedSearchCV visualization"
   ]
  },
  {
   "cell_type": "code",
   "execution_count": 78,
   "id": "f102813e",
   "metadata": {},
   "outputs": [
    {
     "data": {
      "image/png": "[encoded data removed]",
      "text/plain": [
       "<Figure size 432x288 with 1 Axes>"
      ]
     },
     "metadata": {
      "needs_background": "light"
     },
     "output_type": "display_data"
    },
    {
     "data": {
      "image/png": "[encoded data removed]",
      "text/plain": [
       "<Figure size 432x288 with 1 Axes>"
      ]
     },
     "metadata": {
      "needs_background": "light"
     },
     "output_type": "display_data"
    }
   ],
   "source": [
    "from scipy.stats import geom, expon\n",
    "geom_distrib=geom(0.5).rvs(10000, random_state=5)\n",
    "expon_distrib=expon(scale=1).rvs(10000, random_state=5)\n",
    "plt.hist(geom_distrib, bins=50)\n",
    "plt.show()\n",
    "plt.hist(expon_distrib, bins=50)\n",
    "plt.show()"
   ]
  },
  {
   "cell_type": "code",
   "execution_count": null,
   "id": "0bec9d5c",
   "metadata": {},
   "outputs": [],
   "source": []
  }
 ],
 "metadata": {
  "kernelspec": {
   "display_name": "Python 3",
   "language": "python",
   "name": "python3"
  },
  "language_info": {
   "codemirror_mode": {
    "name": "ipython",
    "version": 3
   },
   "file_extension": ".py",
   "mimetype": "text/x-python",
   "name": "python",
   "nbconvert_exporter": "python",
   "pygments_lexer": "ipython3",
   "version": "3.8.8"
  }
 },
 "nbformat": 4,
 "nbformat_minor": 5
}
